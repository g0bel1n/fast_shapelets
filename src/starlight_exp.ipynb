{
 "cells": [
  {
   "cell_type": "code",
   "execution_count": 1,
   "metadata": {},
   "outputs": [],
   "source": [
    "import sys \n",
    "import os\n",
    "\n",
    "if 'fast_shapelets' not in [el.split('/')[-1] for el in sys.path]:\n",
    "    curr_path = os.getcwd()\n",
    "    sys.path.append('/'.join((curr_path.split('/')[:-1])))\n",
    "\n",
    "\n"
   ]
  },
  {
   "cell_type": "code",
   "execution_count": 8,
   "metadata": {},
   "outputs": [
    {
     "ename": "ImportError",
     "evalue": "cannot import name 'Unit' from 'jax.core' (c:\\Users\\sophi\\anaconda3\\envs\\LIPO\\lib\\site-packages\\jax\\core.py)",
     "output_type": "error",
     "traceback": [
      "\u001b[1;31m---------------------------------------------------------------------------\u001b[0m",
      "\u001b[1;31mImportError\u001b[0m                               Traceback (most recent call last)",
      "\u001b[1;32mc:\\Users\\sophi\\OneDrive\\Documents\\3A_SDI\\MVA\\Time_series\\fast_shapelets\\src\\starlight.ipynb Cell 2\u001b[0m in \u001b[0;36m3\n\u001b[0;32m      <a href='vscode-notebook-cell:/c%3A/Users/sophi/OneDrive/Documents/3A_SDI/MVA/Time_series/fast_shapelets/src/starlight.ipynb#W1sZmlsZQ%3D%3D?line=0'>1</a>\u001b[0m sys\u001b[39m.\u001b[39mpath\u001b[39m.\u001b[39minsert(\u001b[39m0\u001b[39m,\u001b[39m'\u001b[39m\u001b[39m../src\u001b[39m\u001b[39m'\u001b[39m) \n\u001b[0;32m      <a href='vscode-notebook-cell:/c%3A/Users/sophi/OneDrive/Documents/3A_SDI/MVA/Time_series/fast_shapelets/src/starlight.ipynb#W1sZmlsZQ%3D%3D?line=1'>2</a>\u001b[0m \u001b[39mfrom\u001b[39;00m \u001b[39m_dataloader\u001b[39;00m \u001b[39mimport\u001b[39;00m get_dataset\n\u001b[1;32m----> <a href='vscode-notebook-cell:/c%3A/Users/sophi/OneDrive/Documents/3A_SDI/MVA/Time_series/fast_shapelets/src/starlight.ipynb#W1sZmlsZQ%3D%3D?line=2'>3</a>\u001b[0m \u001b[39mfrom\u001b[39;00m \u001b[39m_fast_shapelet\u001b[39;00m \u001b[39mimport\u001b[39;00m FastShapelets\n\u001b[0;32m      <a href='vscode-notebook-cell:/c%3A/Users/sophi/OneDrive/Documents/3A_SDI/MVA/Time_series/fast_shapelets/src/starlight.ipynb#W1sZmlsZQ%3D%3D?line=3'>4</a>\u001b[0m \u001b[39mimport\u001b[39;00m \u001b[39mnumpy\u001b[39;00m \u001b[39mas\u001b[39;00m \u001b[39mnp\u001b[39;00m\n\u001b[0;32m      <a href='vscode-notebook-cell:/c%3A/Users/sophi/OneDrive/Documents/3A_SDI/MVA/Time_series/fast_shapelets/src/starlight.ipynb#W1sZmlsZQ%3D%3D?line=4'>5</a>\u001b[0m \u001b[39mimport\u001b[39;00m \u001b[39mmatplotlib\u001b[39;00m\u001b[39m.\u001b[39;00m\u001b[39mpyplot\u001b[39;00m \u001b[39mas\u001b[39;00m \u001b[39mplt\u001b[39;00m\n",
      "File \u001b[1;32mc:\\Users\\sophi\\OneDrive\\Documents\\3A_SDI\\MVA\\Time_series\\fast_shapelets\\src\\../src\\_fast_shapelet.py:3\u001b[0m\n\u001b[0;32m      1\u001b[0m \u001b[39mfrom\u001b[39;00m \u001b[39mtyping\u001b[39;00m \u001b[39mimport\u001b[39;00m Tuple, List, TypeVar\n\u001b[1;32m----> 3\u001b[0m \u001b[39mimport\u001b[39;00m \u001b[39mjax\u001b[39;00m\n\u001b[0;32m      4\u001b[0m \u001b[39mimport\u001b[39;00m \u001b[39mjax\u001b[39;00m\u001b[39m.\u001b[39;00m\u001b[39mnumpy\u001b[39;00m \u001b[39mas\u001b[39;00m \u001b[39mjnp\u001b[39;00m\n\u001b[0;32m      5\u001b[0m \u001b[39mimport\u001b[39;00m \u001b[39mnumpy\u001b[39;00m \u001b[39mas\u001b[39;00m \u001b[39mnp\u001b[39;00m\n",
      "File \u001b[1;32mc:\\Users\\sophi\\anaconda3\\envs\\LIPO\\lib\\site-packages\\jax\\__init__.py:22\u001b[0m\n\u001b[0;32m     20\u001b[0m \u001b[39m# flake8: noqa: F401\u001b[39;00m\n\u001b[0;32m     21\u001b[0m \u001b[39mfrom\u001b[39;00m \u001b[39m.\u001b[39;00m\u001b[39mconfig\u001b[39;00m \u001b[39mimport\u001b[39;00m config\n\u001b[1;32m---> 22\u001b[0m \u001b[39mfrom\u001b[39;00m \u001b[39m.\u001b[39;00m\u001b[39mapi\u001b[39;00m \u001b[39mimport\u001b[39;00m (\n\u001b[0;32m     23\u001b[0m   ad,  \u001b[39m# TODO(phawkins): update users to avoid this.\u001b[39;00m\n\u001b[0;32m     24\u001b[0m   argnums_partial,  \u001b[39m# TODO(phawkins): update Haiku to not use this.\u001b[39;00m\n\u001b[0;32m     25\u001b[0m   checkpoint,\n\u001b[0;32m     26\u001b[0m   closure_convert,\n\u001b[0;32m     27\u001b[0m   curry,  \u001b[39m# TODO(phawkins): update users to avoid this.\u001b[39;00m\n\u001b[0;32m     28\u001b[0m   custom_ivjp,\n\u001b[0;32m     29\u001b[0m   custom_gradient,\n\u001b[0;32m     30\u001b[0m   custom_jvp,\n\u001b[0;32m     31\u001b[0m   custom_vjp,\n\u001b[0;32m     32\u001b[0m   custom_transforms,\n\u001b[0;32m     33\u001b[0m   default_backend,\n\u001b[0;32m     34\u001b[0m   defjvp,\n\u001b[0;32m     35\u001b[0m   defjvp_all,\n\u001b[0;32m     36\u001b[0m   defvjp,\n\u001b[0;32m     37\u001b[0m   defvjp_all,\n\u001b[0;32m     38\u001b[0m   device_count,\n\u001b[0;32m     39\u001b[0m   device_get,\n\u001b[0;32m     40\u001b[0m   device_put,\n\u001b[0;32m     41\u001b[0m   device_put_sharded,\n\u001b[0;32m     42\u001b[0m   device_put_replicated,\n\u001b[0;32m     43\u001b[0m   devices,\n\u001b[0;32m     44\u001b[0m   disable_jit,\n\u001b[0;32m     45\u001b[0m   eval_shape,\n\u001b[0;32m     46\u001b[0m   flatten_fun_nokwargs,  \u001b[39m# TODO(phawkins): update users to avoid this.\u001b[39;00m\n\u001b[0;32m     47\u001b[0m   float0,\n\u001b[0;32m     48\u001b[0m   grad,\n\u001b[0;32m     49\u001b[0m   hessian,\n\u001b[0;32m     50\u001b[0m   host_count,\n\u001b[0;32m     51\u001b[0m   host_id,\n\u001b[0;32m     52\u001b[0m   host_ids,\n\u001b[0;32m     53\u001b[0m   invertible,\n\u001b[0;32m     54\u001b[0m   jacobian,\n\u001b[0;32m     55\u001b[0m   jacfwd,\n\u001b[0;32m     56\u001b[0m   jacrev,\n\u001b[0;32m     57\u001b[0m   jit,\n\u001b[0;32m     58\u001b[0m   jvp,\n\u001b[0;32m     59\u001b[0m   local_device_count,\n\u001b[0;32m     60\u001b[0m   local_devices,\n\u001b[0;32m     61\u001b[0m   linearize,\n\u001b[0;32m     62\u001b[0m   linear_transpose,\n\u001b[0;32m     63\u001b[0m   make_jaxpr,\n\u001b[0;32m     64\u001b[0m   mask,\n\u001b[0;32m     65\u001b[0m   named_call,\n\u001b[0;32m     66\u001b[0m   partial,  \u001b[39m# TODO(phawkins): update callers to use functools.partial.\u001b[39;00m\n\u001b[0;32m     67\u001b[0m   pmap,\n\u001b[0;32m     68\u001b[0m   pxla,  \u001b[39m# TODO(phawkins): update users to avoid this.\u001b[39;00m\n\u001b[0;32m     69\u001b[0m   remat,\n\u001b[0;32m     70\u001b[0m   shapecheck,\n\u001b[0;32m     71\u001b[0m   ShapedArray,\n\u001b[0;32m     72\u001b[0m   ShapeDtypeStruct,\n\u001b[0;32m     73\u001b[0m   \u001b[39m# TODO(phawkins): hide tree* functions from jax, update callers to use\u001b[39;00m\n\u001b[0;32m     74\u001b[0m   \u001b[39m# jax.tree_util.\u001b[39;00m\n\u001b[0;32m     75\u001b[0m   treedef_is_leaf,\n\u001b[0;32m     76\u001b[0m   tree_flatten,\n\u001b[0;32m     77\u001b[0m   tree_leaves,\n\u001b[0;32m     78\u001b[0m   tree_map,\n\u001b[0;32m     79\u001b[0m   tree_multimap,\n\u001b[0;32m     80\u001b[0m   tree_structure,\n\u001b[0;32m     81\u001b[0m   tree_transpose,\n\u001b[0;32m     82\u001b[0m   tree_unflatten,\n\u001b[0;32m     83\u001b[0m   value_and_grad,\n\u001b[0;32m     84\u001b[0m   vjp,\n\u001b[0;32m     85\u001b[0m   vmap,\n\u001b[0;32m     86\u001b[0m   xla,  \u001b[39m# TODO(phawkins): update users to avoid this.\u001b[39;00m\n\u001b[0;32m     87\u001b[0m   xla_computation,\n\u001b[0;32m     88\u001b[0m )\n\u001b[0;32m     89\u001b[0m \u001b[39mfrom\u001b[39;00m \u001b[39m.\u001b[39;00m\u001b[39mexperimental\u001b[39;00m\u001b[39m.\u001b[39;00m\u001b[39mmaps\u001b[39;00m \u001b[39mimport\u001b[39;00m soft_pmap\n\u001b[0;32m     90\u001b[0m \u001b[39mfrom\u001b[39;00m \u001b[39m.\u001b[39;00m\u001b[39mversion\u001b[39;00m \u001b[39mimport\u001b[39;00m __version__\n",
      "File \u001b[1;32mc:\\Users\\sophi\\anaconda3\\envs\\LIPO\\lib\\site-packages\\jax\\api.py:42\u001b[0m\n\u001b[0;32m     40\u001b[0m \u001b[39mfrom\u001b[39;00m \u001b[39m.\u001b[39;00m \u001b[39mimport\u001b[39;00m lib\n\u001b[0;32m     41\u001b[0m \u001b[39mfrom\u001b[39;00m \u001b[39m.\u001b[39;00m \u001b[39mimport\u001b[39;00m linear_util \u001b[39mas\u001b[39;00m lu\n\u001b[1;32m---> 42\u001b[0m \u001b[39mfrom\u001b[39;00m \u001b[39m.\u001b[39;00m \u001b[39mimport\u001b[39;00m ad_util\n\u001b[0;32m     43\u001b[0m \u001b[39mfrom\u001b[39;00m \u001b[39m.\u001b[39;00m \u001b[39mimport\u001b[39;00m dtypes\n\u001b[0;32m     44\u001b[0m \u001b[39mfrom\u001b[39;00m \u001b[39m.\u001b[39;00m\u001b[39mcore\u001b[39;00m \u001b[39mimport\u001b[39;00m eval_jaxpr, checking_leaks\n",
      "File \u001b[1;32mc:\\Users\\sophi\\anaconda3\\envs\\LIPO\\lib\\site-packages\\jax\\ad_util.py:17\u001b[0m\n\u001b[0;32m      1\u001b[0m \u001b[39m# Copyright 2018 Google LLC\u001b[39;00m\n\u001b[0;32m      2\u001b[0m \u001b[39m#\u001b[39;00m\n\u001b[0;32m      3\u001b[0m \u001b[39m# Licensed under the Apache License, Version 2.0 (the \"License\");\u001b[39;00m\n\u001b[1;32m   (...)\u001b[0m\n\u001b[0;32m     12\u001b[0m \u001b[39m# See the License for the specific language governing permissions and\u001b[39;00m\n\u001b[0;32m     13\u001b[0m \u001b[39m# limitations under the License.\u001b[39;00m\n\u001b[0;32m     16\u001b[0m \u001b[39mfrom\u001b[39;00m \u001b[39mjax\u001b[39;00m \u001b[39mimport\u001b[39;00m core\n\u001b[1;32m---> 17\u001b[0m \u001b[39mfrom\u001b[39;00m \u001b[39m.\u001b[39;00m\u001b[39mcore\u001b[39;00m \u001b[39mimport\u001b[39;00m (lattice_join, Primitive, Unit, unit, AbstractUnit,\n\u001b[0;32m     18\u001b[0m                    valid_jaxtype, raise_to_shaped, get_aval)\n\u001b[0;32m     19\u001b[0m \u001b[39mfrom\u001b[39;00m \u001b[39m.\u001b[39;00m\u001b[39mtree_util\u001b[39;00m \u001b[39mimport\u001b[39;00m register_pytree_node\n\u001b[0;32m     20\u001b[0m \u001b[39mfrom\u001b[39;00m \u001b[39mtyping\u001b[39;00m \u001b[39mimport\u001b[39;00m Any, Callable, Dict, Type\n",
      "\u001b[1;31mImportError\u001b[0m: cannot import name 'Unit' from 'jax.core' (c:\\Users\\sophi\\anaconda3\\envs\\LIPO\\lib\\site-packages\\jax\\core.py)"
     ]
    }
   ],
   "source": [
    "sys.path.insert(0,'../src') \n",
    "from _dataloader import get_dataset\n",
    "from _fast_shapelet import FastShapelets\n",
    "import numpy as np\n",
    "import matplotlib.pyplot as plt"
   ]
  },
  {
   "cell_type": "code",
   "execution_count": 8,
   "metadata": {},
   "outputs": [
    {
     "name": "stdout",
     "output_type": "stream",
     "text": [
      "Dataset StarLightCurves loading from cache \n",
      "\n"
     ]
    }
   ],
   "source": [
    "X_train,y_train, X_test, y_test = get_dataset('StarLightCurves')\n",
    "y_train = y_train-1\n",
    "y_test = y_test-1\n",
    "\n",
    "X = X_train[:1000]\n",
    "y = y_train[:1000]"
   ]
  },
  {
   "cell_type": "code",
   "execution_count": 9,
   "metadata": {},
   "outputs": [],
   "source": [
    "fs = FastShapelets(min_shapelet_length=200, max_shapelet_length=201, cardinality=4, dimensionality=16, r=10)"
   ]
  },
  {
   "cell_type": "code",
   "execution_count": 10,
   "metadata": {},
   "outputs": [
    {
     "data": {
      "application/vnd.jupyter.widget-view+json": {
       "model_id": "8ac67df778ad4b5487e4eff487f45904",
       "version_major": 2,
       "version_minor": 0
      },
      "text/plain": [
       "Output()"
      ]
     },
     "metadata": {},
     "output_type": "display_data"
    }
   ],
   "source": [
    "fs.fit(X, y)"
   ]
  },
  {
   "cell_type": "code",
   "execution_count": 15,
   "metadata": {},
   "outputs": [
    {
     "name": "stderr",
     "output_type": "stream",
     "text": [
      "/Users/g0bel1n/fast_shapelets/src/_fast_shapelet.py:292: VisibleDeprecationWarning: Creating an ndarray from ragged nested sequences (which is a list-or-tuple of lists-or-tuples-or ndarrays with different lengths or shapes) is deprecated. If you meant to do this, you must specify 'dtype=object' when creating the ndarray.\n",
      "  shapelets = np.array([el.value for el in self.get_shapelets().values()])\n"
     ]
    }
   ],
   "source": [
    "test_shap = fs.transform(X_test[:1000])\n",
    "train_shap = fs.transform(X_train[:1000])"
   ]
  },
  {
   "cell_type": "code",
   "execution_count": 17,
   "metadata": {},
   "outputs": [
    {
     "data": {
      "text/plain": [
       "0.808"
      ]
     },
     "execution_count": 17,
     "metadata": {},
     "output_type": "execute_result"
    }
   ],
   "source": [
    "from sklearn.neighbors import KNeighborsClassifier\n",
    "from sklearn.metrics import balanced_accuracy_score\n",
    "\n",
    "\n",
    "knn = KNeighborsClassifier(n_neighbors=3)\n",
    "knn.fit(train_shap, y_train[:1000])\n",
    "knn.score(test_shap, y_test[:1000])\n",
    "#balanced_accuracy_score(y_test[:1000], knn.predict(test_shap))\n"
   ]
  },
  {
   "cell_type": "code",
   "execution_count": null,
   "metadata": {},
   "outputs": [],
   "source": []
  }
 ],
 "metadata": {
  "kernelspec": {
   "display_name": "Python 3 (ipykernel)",
   "language": "python",
   "name": "python3"
  },
  "language_info": {
   "codemirror_mode": {
    "name": "ipython",
    "version": 3
   },
   "file_extension": ".py",
   "mimetype": "text/x-python",
   "name": "python",
   "nbconvert_exporter": "python",
   "pygments_lexer": "ipython3",
   "version": "3.10.9"
  }
 },
 "nbformat": 4,
 "nbformat_minor": 4
}
