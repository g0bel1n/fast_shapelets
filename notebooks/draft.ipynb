{
 "cells": [
  {
   "cell_type": "code",
   "execution_count": 1,
   "metadata": {},
   "outputs": [],
   "source": [
    "import sys \n",
    "import os\n",
    "\n",
    "if 'fast_shapelets' not in [el.split('/')[-1] for el in sys.path]:\n",
    "    curr_path = os.getcwd()\n",
    "    sys.path.append('/'.join((curr_path.split('/')[:-1])))"
   ]
  },
  {
   "cell_type": "code",
   "execution_count": 2,
   "metadata": {},
   "outputs": [],
   "source": [
    "from src import get_dataset, SAX, FastShapelet\n",
    "import numpy as np\n",
    "import matplotlib.pyplot as plt"
   ]
  },
  {
   "cell_type": "code",
   "execution_count": 3,
   "metadata": {},
   "outputs": [
    {
     "name": "stdout",
     "output_type": "stream",
     "text": [
      "Downloading Heartbeat dataset from www.timeseriesclassification.com \n",
      "\n",
      "Unzipping Heartbeat dataset \n",
      "\n",
      "Archive:  data/Heartbeat.zip\n",
      "  inflating: data/Heartbeat/Heartbeat.JPG  \n",
      "  inflating: data/Heartbeat/Heartbeat.txt  \n",
      "  inflating: data/Heartbeat/HeartbeatDimension10_TEST.arff  \n",
      "  inflating: data/Heartbeat/HeartbeatDimension10_TRAIN.arff  \n",
      "  inflating: data/Heartbeat/HeartbeatDimension11_TEST.arff  \n",
      "  inflating: data/Heartbeat/HeartbeatDimension11_TRAIN.arff  \n",
      "  inflating: data/Heartbeat/HeartbeatDimension12_TEST.arff  \n",
      "  inflating: data/Heartbeat/HeartbeatDimension12_TRAIN.arff  \n",
      "  inflating: data/Heartbeat/HeartbeatDimension13_TEST.arff  \n",
      "  inflating: data/Heartbeat/HeartbeatDimension13_TRAIN.arff  \n",
      "  inflating: data/Heartbeat/HeartbeatDimension14_TEST.arff  \n",
      "  inflating: data/Heartbeat/HeartbeatDimension14_TRAIN.arff  \n",
      "  inflating: data/Heartbeat/HeartbeatDimension15_TEST.arff  \n",
      "  inflating: data/Heartbeat/HeartbeatDimension15_TRAIN.arff  \n",
      "  inflating: data/Heartbeat/HeartbeatDimension16_TEST.arff  \n",
      "  inflating: data/Heartbeat/HeartbeatDimension16_TRAIN.arff  \n",
      "  inflating: data/Heartbeat/HeartbeatDimension17_TEST.arff  \n",
      "  inflating: data/Heartbeat/HeartbeatDimension17_TRAIN.arff  \n",
      "  inflating: data/Heartbeat/HeartbeatDimension18_TEST.arff  \n",
      "  inflating: data/Heartbeat/HeartbeatDimension18_TRAIN.arff  \n",
      "  inflating: data/Heartbeat/HeartbeatDimension19_TEST.arff  \n",
      "  inflating: data/Heartbeat/HeartbeatDimension19_TRAIN.arff  \n",
      "  inflating: data/Heartbeat/HeartbeatDimension1_TEST.arff  \n",
      "  inflating: data/Heartbeat/HeartbeatDimension1_TRAIN.arff  \n",
      "  inflating: data/Heartbeat/HeartbeatDimension20_TEST.arff  \n",
      "  inflating: data/Heartbeat/HeartbeatDimension20_TRAIN.arff  \n",
      "  inflating: data/Heartbeat/HeartbeatDimension21_TEST.arff  \n",
      "  inflating: data/Heartbeat/HeartbeatDimension21_TRAIN.arff  \n",
      "  inflating: data/Heartbeat/HeartbeatDimension22_TEST.arff  \n",
      "  inflating: data/Heartbeat/HeartbeatDimension22_TRAIN.arff  \n",
      "  inflating: data/Heartbeat/HeartbeatDimension23_TEST.arff  \n",
      "  inflating: data/Heartbeat/HeartbeatDimension23_TRAIN.arff  \n",
      "  inflating: data/Heartbeat/HeartbeatDimension24_TEST.arff  \n",
      "  inflating: data/Heartbeat/HeartbeatDimension24_TRAIN.arff  \n",
      "  inflating: data/Heartbeat/HeartbeatDimension25_TEST.arff  \n",
      "  inflating: data/Heartbeat/HeartbeatDimension25_TRAIN.arff  \n",
      "  inflating: data/Heartbeat/HeartbeatDimension26_TEST.arff  \n",
      "  inflating: data/Heartbeat/HeartbeatDimension26_TRAIN.arff  \n",
      "  inflating: data/Heartbeat/HeartbeatDimension27_TEST.arff  \n",
      "  inflating: data/Heartbeat/HeartbeatDimension27_TRAIN.arff  \n",
      "  inflating: data/Heartbeat/HeartbeatDimension28_TEST.arff  \n",
      "  inflating: data/Heartbeat/HeartbeatDimension28_TRAIN.arff  \n",
      "  inflating: data/Heartbeat/HeartbeatDimension29_TEST.arff  \n",
      "  inflating: data/Heartbeat/HeartbeatDimension29_TRAIN.arff  \n",
      "  inflating: data/Heartbeat/HeartbeatDimension2_TEST.arff  \n",
      "  inflating: data/Heartbeat/HeartbeatDimension2_TRAIN.arff  \n",
      "  inflating: data/Heartbeat/HeartbeatDimension30_TEST.arff  \n",
      "  inflating: data/Heartbeat/HeartbeatDimension30_TRAIN.arff  \n",
      "  inflating: data/Heartbeat/HeartbeatDimension31_TEST.arff  \n",
      "  inflating: data/Heartbeat/HeartbeatDimension31_TRAIN.arff  \n",
      "  inflating: data/Heartbeat/HeartbeatDimension32_TEST.arff  \n",
      "  inflating: data/Heartbeat/HeartbeatDimension32_TRAIN.arff  \n",
      "  inflating: data/Heartbeat/HeartbeatDimension33_TEST.arff  \n",
      "  inflating: data/Heartbeat/HeartbeatDimension33_TRAIN.arff  \n",
      "  inflating: data/Heartbeat/HeartbeatDimension34_TEST.arff  \n",
      "  inflating: data/Heartbeat/HeartbeatDimension34_TRAIN.arff  \n",
      "  inflating: data/Heartbeat/HeartbeatDimension35_TEST.arff  \n",
      "  inflating: data/Heartbeat/HeartbeatDimension35_TRAIN.arff  \n",
      "  inflating: data/Heartbeat/HeartbeatDimension36_TEST.arff  \n",
      "  inflating: data/Heartbeat/HeartbeatDimension36_TRAIN.arff  \n",
      "  inflating: data/Heartbeat/HeartbeatDimension37_TEST.arff  \n",
      "  inflating: data/Heartbeat/HeartbeatDimension37_TRAIN.arff  \n",
      "  inflating: data/Heartbeat/HeartbeatDimension38_TEST.arff  \n",
      "  inflating: data/Heartbeat/HeartbeatDimension38_TRAIN.arff  \n",
      "  inflating: data/Heartbeat/HeartbeatDimension39_TEST.arff  \n",
      "  inflating: data/Heartbeat/HeartbeatDimension39_TRAIN.arff  \n",
      "  inflating: data/Heartbeat/HeartbeatDimension3_TEST.arff  \n",
      "  inflating: data/Heartbeat/HeartbeatDimension3_TRAIN.arff  \n",
      "  inflating: data/Heartbeat/HeartbeatDimension40_TEST.arff  \n",
      "  inflating: data/Heartbeat/HeartbeatDimension40_TRAIN.arff  \n",
      "  inflating: data/Heartbeat/HeartbeatDimension41_TEST.arff  \n",
      "  inflating: data/Heartbeat/HeartbeatDimension41_TRAIN.arff  \n",
      "  inflating: data/Heartbeat/HeartbeatDimension42_TEST.arff  \n",
      "  inflating: data/Heartbeat/HeartbeatDimension42_TRAIN.arff  \n",
      "  inflating: data/Heartbeat/HeartbeatDimension43_TEST.arff  \n",
      "  inflating: data/Heartbeat/HeartbeatDimension43_TRAIN.arff  \n",
      "  inflating: data/Heartbeat/HeartbeatDimension44_TEST.arff  \n",
      "  inflating: data/Heartbeat/HeartbeatDimension44_TRAIN.arff  \n",
      "  inflating: data/Heartbeat/HeartbeatDimension45_TEST.arff  \n",
      "  inflating: data/Heartbeat/HeartbeatDimension45_TRAIN.arff  \n",
      "  inflating: data/Heartbeat/HeartbeatDimension46_TEST.arff  \n",
      "  inflating: data/Heartbeat/HeartbeatDimension46_TRAIN.arff  \n",
      "  inflating: data/Heartbeat/HeartbeatDimension47_TEST.arff  \n",
      "  inflating: data/Heartbeat/HeartbeatDimension47_TRAIN.arff  \n",
      "  inflating: data/Heartbeat/HeartbeatDimension48_TEST.arff  \n",
      "  inflating: data/Heartbeat/HeartbeatDimension48_TRAIN.arff  \n",
      "  inflating: data/Heartbeat/HeartbeatDimension49_TEST.arff  \n",
      "  inflating: data/Heartbeat/HeartbeatDimension49_TRAIN.arff  \n",
      "  inflating: data/Heartbeat/HeartbeatDimension4_TEST.arff  \n",
      "  inflating: data/Heartbeat/HeartbeatDimension4_TRAIN.arff  \n",
      "  inflating: data/Heartbeat/HeartbeatDimension50_TEST.arff  \n",
      "  inflating: data/Heartbeat/HeartbeatDimension50_TRAIN.arff  \n",
      "  inflating: data/Heartbeat/HeartbeatDimension51_TEST.arff  \n",
      "  inflating: data/Heartbeat/HeartbeatDimension51_TRAIN.arff  \n",
      "  inflating: data/Heartbeat/HeartbeatDimension52_TEST.arff  \n",
      "  inflating: data/Heartbeat/HeartbeatDimension52_TRAIN.arff  \n",
      "  inflating: data/Heartbeat/HeartbeatDimension53_TEST.arff  \n",
      "  inflating: data/Heartbeat/HeartbeatDimension53_TRAIN.arff  \n",
      "  inflating: data/Heartbeat/HeartbeatDimension54_TEST.arff  \n",
      "  inflating: data/Heartbeat/HeartbeatDimension54_TRAIN.arff  \n",
      "  inflating: data/Heartbeat/HeartbeatDimension55_TEST.arff  \n",
      "  inflating: data/Heartbeat/HeartbeatDimension55_TRAIN.arff  \n",
      "  inflating: data/Heartbeat/HeartbeatDimension56_TEST.arff  \n",
      "  inflating: data/Heartbeat/HeartbeatDimension56_TRAIN.arff  \n",
      "  inflating: data/Heartbeat/HeartbeatDimension57_TEST.arff  \n",
      "  inflating: data/Heartbeat/HeartbeatDimension57_TRAIN.arff  \n",
      "  inflating: data/Heartbeat/HeartbeatDimension58_TEST.arff  \n",
      "  inflating: data/Heartbeat/HeartbeatDimension58_TRAIN.arff  \n",
      "  inflating: data/Heartbeat/HeartbeatDimension59_TEST.arff  \n",
      "  inflating: data/Heartbeat/HeartbeatDimension59_TRAIN.arff  \n",
      "  inflating: data/Heartbeat/HeartbeatDimension5_TEST.arff  \n",
      "  inflating: data/Heartbeat/HeartbeatDimension5_TRAIN.arff  \n",
      "  inflating: data/Heartbeat/HeartbeatDimension60_TEST.arff  \n",
      "  inflating: data/Heartbeat/HeartbeatDimension60_TRAIN.arff  \n",
      "  inflating: data/Heartbeat/HeartbeatDimension61_TEST.arff  \n",
      "  inflating: data/Heartbeat/HeartbeatDimension61_TRAIN.arff  \n",
      "  inflating: data/Heartbeat/HeartbeatDimension6_TEST.arff  \n",
      "  inflating: data/Heartbeat/HeartbeatDimension6_TRAIN.arff  \n",
      "  inflating: data/Heartbeat/HeartbeatDimension7_TEST.arff  \n",
      "  inflating: data/Heartbeat/HeartbeatDimension7_TRAIN.arff  \n",
      "  inflating: data/Heartbeat/HeartbeatDimension8_TEST.arff  \n",
      "  inflating: data/Heartbeat/HeartbeatDimension8_TRAIN.arff  \n",
      "  inflating: data/Heartbeat/HeartbeatDimension9_TEST.arff  \n",
      "  inflating: data/Heartbeat/HeartbeatDimension9_TRAIN.arff  \n",
      "  inflating: data/Heartbeat/Heartbeat_TEST.arff  \n",
      "  inflating: data/Heartbeat/Heartbeat_TRAIN.arff  \n",
      "  inflating: data/Heartbeat/Heartbeat_TEST.ts  \n",
      "  inflating: data/Heartbeat/Heartbeat_TRAIN.ts  \n",
      "Converting Heartbeat dataset to pickle \n",
      "\n"
     ]
    },
    {
     "ename": "FileNotFoundError",
     "evalue": "[Errno 2] No such file or directory: 'data/Heartbeat/Heartbeat_TRAIN.txt'",
     "output_type": "error",
     "traceback": [
      "\u001b[0;31m---------------------------------------------------------------------------\u001b[0m",
      "\u001b[0;31mFileNotFoundError\u001b[0m                         Traceback (most recent call last)",
      "Cell \u001b[0;32mIn[3], line 1\u001b[0m\n\u001b[0;32m----> 1\u001b[0m X_train,y_train, X_test, y_test \u001b[39m=\u001b[39m get_dataset(\u001b[39m'\u001b[39;49m\u001b[39mHeartbeat\u001b[39;49m\u001b[39m'\u001b[39;49m)\n\u001b[1;32m      2\u001b[0m y_train \u001b[39m=\u001b[39m y_train\u001b[39m-\u001b[39m\u001b[39m1\u001b[39m\n\u001b[1;32m      3\u001b[0m y_test \u001b[39m=\u001b[39m y_test\u001b[39m-\u001b[39m\u001b[39m1\u001b[39m\n",
      "File \u001b[0;32m~/fast_shapelets/src/_dataloader.py:94\u001b[0m, in \u001b[0;36mget_dataset\u001b[0;34m(dataset_name)\u001b[0m\n\u001b[1;32m     91\u001b[0m \u001b[39massert\u001b[39;00m dataset_name \u001b[39min\u001b[39;00m __supported_datasets__, \u001b[39m\"\u001b[39m\u001b[39mDataset not supported\u001b[39m\u001b[39m\"\u001b[39m\n\u001b[1;32m     93\u001b[0m \u001b[39mif\u001b[39;00m \u001b[39mnot\u001b[39;00m os\u001b[39m.\u001b[39mpath\u001b[39m.\u001b[39mexists(\u001b[39mf\u001b[39m\u001b[39m\"\u001b[39m\u001b[39mdata/\u001b[39m\u001b[39m{\u001b[39;00mdataset_name\u001b[39m}\u001b[39;00m\u001b[39m\"\u001b[39m):\n\u001b[0;32m---> 94\u001b[0m     download_dataset(dataset_name)\n\u001b[1;32m     95\u001b[0m \u001b[39melse\u001b[39;00m:\n\u001b[1;32m     96\u001b[0m     \u001b[39mprint\u001b[39m(\u001b[39mf\u001b[39m\u001b[39m\"\u001b[39m\u001b[39mDataset \u001b[39m\u001b[39m{\u001b[39;00mdataset_name\u001b[39m}\u001b[39;00m\u001b[39m loading from cache \u001b[39m\u001b[39m\\n\u001b[39;00m\u001b[39m\"\u001b[39m)\n",
      "File \u001b[0;32m~/fast_shapelets/src/_dataloader.py:31\u001b[0m, in \u001b[0;36mdownload_dataset\u001b[0;34m(dataset_name)\u001b[0m\n\u001b[1;32m     28\u001b[0m     \u001b[39m# TODO: add arff support !!!!\u001b[39;00m\n\u001b[1;32m     30\u001b[0m \u001b[39mprint\u001b[39m(\u001b[39mf\u001b[39m\u001b[39m\"\u001b[39m\u001b[39mConverting \u001b[39m\u001b[39m{\u001b[39;00mdataset_name\u001b[39m}\u001b[39;00m\u001b[39m dataset to pickle \u001b[39m\u001b[39m\\n\u001b[39;00m\u001b[39m\"\u001b[39m)\n\u001b[0;32m---> 31\u001b[0m \u001b[39mwith\u001b[39;00m \u001b[39mopen\u001b[39;49m(\u001b[39mf\u001b[39;49m\u001b[39m\"\u001b[39;49m\u001b[39mdata/\u001b[39;49m\u001b[39m{\u001b[39;49;00mdataset_name\u001b[39m}\u001b[39;49;00m\u001b[39m/\u001b[39;49m\u001b[39m{\u001b[39;49;00mdataset_name\u001b[39m}\u001b[39;49;00m\u001b[39m_TRAIN.txt\u001b[39;49m\u001b[39m\"\u001b[39;49m, \u001b[39m\"\u001b[39;49m\u001b[39mr\u001b[39;49m\u001b[39m\"\u001b[39;49m) \u001b[39mas\u001b[39;00m train_file:\n\u001b[1;32m     32\u001b[0m     train_data \u001b[39m=\u001b[39m csv\u001b[39m.\u001b[39mreader(train_file\u001b[39m.\u001b[39mreadlines(), delimiter\u001b[39m=\u001b[39m\u001b[39m\"\u001b[39m\u001b[39m\\t\u001b[39;00m\u001b[39m\"\u001b[39m)\n\u001b[1;32m     33\u001b[0m     train_data \u001b[39m=\u001b[39m [\n\u001b[1;32m     34\u001b[0m         [\u001b[39mfloat\u001b[39m(el_) \u001b[39mfor\u001b[39;00m el_ \u001b[39min\u001b[39;00m el[\u001b[39m0\u001b[39m]\u001b[39m.\u001b[39msplit(\u001b[39m\"\u001b[39m\u001b[39m \u001b[39m\u001b[39m\"\u001b[39m) \u001b[39mif\u001b[39;00m el_ \u001b[39m!=\u001b[39m \u001b[39m\"\u001b[39m\u001b[39m\"\u001b[39m]\n\u001b[1;32m     35\u001b[0m         \u001b[39mfor\u001b[39;00m el \u001b[39min\u001b[39;00m \u001b[39mlist\u001b[39m(train_data)\n\u001b[1;32m     36\u001b[0m     ]\n",
      "\u001b[0;31mFileNotFoundError\u001b[0m: [Errno 2] No such file or directory: 'data/Heartbeat/Heartbeat_TRAIN.txt'"
     ]
    }
   ],
   "source": [
    "X_train,y_train, X_test, y_test = get_dataset('Heartbeat')\n",
    "y_train = y_train-1\n",
    "y_test = y_test-1"
   ]
  },
  {
   "cell_type": "code",
   "execution_count": 4,
   "metadata": {},
   "outputs": [],
   "source": [
    "sax = SAX(13,11)"
   ]
  },
  {
   "cell_type": "code",
   "execution_count": 5,
   "metadata": {},
   "outputs": [],
   "source": [
    "X_transform = sax.transform(X_train[:100,:])"
   ]
  },
  {
   "cell_type": "code",
   "execution_count": 6,
   "metadata": {},
   "outputs": [
    {
     "data": {
      "text/plain": [
       "(100, 10)"
      ]
     },
     "execution_count": 6,
     "metadata": {},
     "output_type": "execute_result"
    }
   ],
   "source": [
    "X_transform.shape"
   ]
  },
  {
   "cell_type": "code",
   "execution_count": 7,
   "metadata": {},
   "outputs": [],
   "source": [
    "fs = FastShapelet(3,3)"
   ]
  },
  {
   "cell_type": "code",
   "execution_count": 9,
   "metadata": {},
   "outputs": [],
   "source": [
    "collision_table = fs._compute_collision_table(X_transform, r=10)"
   ]
  },
  {
   "cell_type": "code",
   "execution_count": 10,
   "metadata": {},
   "outputs": [
    {
     "data": {
      "text/plain": [
       "<matplotlib.image.AxesImage at 0x130301c60>"
      ]
     },
     "execution_count": 10,
     "metadata": {},
     "output_type": "execute_result"
    },
    {
     "data": {
      "image/png": "[encoded data removed]",
      "text/plain": [
       "<Figure size 1440x1440 with 1 Axes>"
      ]
     },
     "metadata": {
      "needs_background": "light"
     },
     "output_type": "display_data"
    }
   ],
   "source": [
    "#bigger image\n",
    "plt.figure(figsize=(20,20))\n",
    "plt.imshow(collision_table)"
   ]
  },
  {
   "cell_type": "code",
   "execution_count": 11,
   "metadata": {},
   "outputs": [
    {
     "ename": "IndexError",
     "evalue": "only integers, slices (`:`), ellipsis (`...`), numpy.newaxis (`None`) and integer or boolean arrays are valid indices",
     "output_type": "error",
     "traceback": [
      "\u001b[0;31m---------------------------------------------------------------------------\u001b[0m",
      "\u001b[0;31mIndexError\u001b[0m                                Traceback (most recent call last)",
      "\u001b[1;32m/Users/g0bel1n/fast_shapelets/notebooks/draft.ipynb Cell 10\u001b[0m in \u001b[0;36m<cell line: 1>\u001b[0;34m()\u001b[0m\n\u001b[0;32m----> <a href='vscode-notebook-cell:/Users/g0bel1n/fast_shapelets/notebooks/draft.ipynb#X25sZmlsZQ%3D%3D?line=0'>1</a>\u001b[0m distinguishing_score \u001b[39m=\u001b[39m fs\u001b[39m.\u001b[39;49m_compute_distinguishing_score(collision_table, y_train[:\u001b[39m100\u001b[39;49m])\n",
      "File \u001b[0;32m~/fast_shapelets/src/_fast_shapelet.py:60\u001b[0m, in \u001b[0;36mFastShapelet._compute_distinguishing_score\u001b[0;34m(collision_table, obj_classes)\u001b[0m\n\u001b[1;32m     58\u001b[0m close2ref \u001b[39m=\u001b[39m np\u001b[39m.\u001b[39mzeros((collision_table\u001b[39m.\u001b[39mshape[\u001b[39m0\u001b[39m], n_classes))        \n\u001b[1;32m     59\u001b[0m \u001b[39mfor\u001b[39;00m \u001b[39mcls\u001b[39m \u001b[39min\u001b[39;00m np\u001b[39m.\u001b[39munique(obj_classes):\n\u001b[0;32m---> 60\u001b[0m     close2ref[:,\u001b[39mcls\u001b[39m] \u001b[39m=\u001b[39m np\u001b[39m.\u001b[39msum(collision_table[:,obj_classes \u001b[39m==\u001b[39m \u001b[39mcls\u001b[39m], axis\u001b[39m=\u001b[39m\u001b[39m-\u001b[39m\u001b[39m1\u001b[39m)\n\u001b[1;32m     62\u001b[0m farRef \u001b[39m=\u001b[39m np\u001b[39m.\u001b[39mmax(close2ref) \u001b[39m-\u001b[39m close2ref\n\u001b[1;32m     64\u001b[0m \u001b[39mreturn\u001b[39;00m np\u001b[39m.\u001b[39msum(np\u001b[39m.\u001b[39mabs(close2ref \u001b[39m-\u001b[39m farRef), axis\u001b[39m=\u001b[39m\u001b[39m-\u001b[39m\u001b[39m1\u001b[39m)\n",
      "\u001b[0;31mIndexError\u001b[0m: only integers, slices (`:`), ellipsis (`...`), numpy.newaxis (`None`) and integer or boolean arrays are valid indices"
     ]
    }
   ],
   "source": [
    "distinguishing_score = fs._compute_distinguishing_score(collision_table, y_train[:100])"
   ]
  },
  {
   "cell_type": "code",
   "execution_count": 6,
   "metadata": {},
   "outputs": [],
   "source": [
    "y_train = y_train - 1"
   ]
  },
  {
   "cell_type": "code",
   "execution_count": 23,
   "metadata": {},
   "outputs": [],
   "source": [
    "obj_classes = y_train[:100]"
   ]
  },
  {
   "cell_type": "code",
   "execution_count": 25,
   "metadata": {},
   "outputs": [
    {
     "name": "stdout",
     "output_type": "stream",
     "text": [
      "0.0\n",
      "1.0\n",
      "2.0\n"
     ]
    },
    {
     "data": {
      "text/plain": [
       "array([64., 64., 64., 60., 64., 64., 64., 64., 84., 62., 60., 60., 72.,\n",
       "       58., 62., 62., 64., 64., 64., 64., 62., 60., 44., 64., 64., 64.,\n",
       "       66., 66., 44., 38., 64., 64., 64., 56., 62., 64., 62., 56., 58.,\n",
       "       68., 60., 60., 64., 68., 58., 60., 84., 60., 66., 62., 58., 66.,\n",
       "       64., 64., 64., 64., 64., 64., 44., 38., 64., 64., 64., 64., 64.,\n",
       "       64., 56., 60., 64., 64., 64., 64., 64., 64., 62., 64., 64., 64.,\n",
       "       62., 64., 64., 64., 64., 56., 56., 72., 60., 64., 64., 64., 62.,\n",
       "       62., 62., 60., 64., 64., 64., 64., 60., 60., 64., 56., 60., 60.,\n",
       "       64., 64., 60., 60., 56., 62., 64., 60., 64., 64., 64., 64., 64.,\n",
       "       64., 64., 64., 50., 44., 58., 64., 64., 64., 64., 56., 56., 64.,\n",
       "       64., 64., 64., 64., 64., 64., 64., 64., 64., 64., 64., 64., 64.,\n",
       "       56., 64., 44., 64., 64., 64., 64., 64., 64., 64., 64., 64., 64.,\n",
       "       64., 64., 60., 64., 64., 64., 64., 64., 64., 64., 64., 64., 64.,\n",
       "       60., 44., 56., 56., 62., 60., 76., 58., 64., 64., 64., 64., 60.,\n",
       "       62., 60., 56., 62., 64., 64., 64., 64., 58., 58., 64., 64., 58.,\n",
       "       64., 58., 64., 64., 64., 64., 64., 64.])"
      ]
     },
     "execution_count": 25,
     "metadata": {},
     "output_type": "execute_result"
    }
   ],
   "source": [
    "n_classes = np.unique(obj_classes).shape[0]\n",
    "\n",
    "        #group collision table cols by class\n",
    "        \n",
    "close2ref = np.zeros((collision_table.shape[0], n_classes))        \n",
    "for cls in np.unique(obj_classes):\n",
    "    print(cls)\n",
    "    close2ref[:,int(cls)] = np.sum(collision_table[:,obj_classes == cls], axis=-1)\n",
    "\n",
    "farRef = np.max(close2ref) - close2ref\n",
    "\n",
    "np.sum(np.abs(close2ref - farRef), axis=-1)"
   ]
  },
  {
   "cell_type": "code",
   "execution_count": 26,
   "metadata": {},
   "outputs": [
    {
     "data": {
      "text/plain": [
       "array([[ 0.,  0., 10.],\n",
       "       [ 0.,  0., 10.],\n",
       "       [ 0.,  0., 10.],\n",
       "       [12.,  0.,  0.],\n",
       "       [ 0.,  0., 10.],\n",
       "       [ 0.,  0., 18.],\n",
       "       [ 0., 10.,  0.],\n",
       "       [ 0., 10.,  0.],\n",
       "       [ 0.,  0., 28.],\n",
       "       [ 0.,  0., 17.],\n",
       "       [ 0., 12.,  0.],\n",
       "       [ 0., 12.,  0.],\n",
       "       [ 0.,  0., 22.],\n",
       "       [ 0.,  0., 13.],\n",
       "       [ 0.,  0., 11.],\n",
       "       [ 0.,  0., 11.],\n",
       "       [ 0.,  0., 10.],\n",
       "       [ 0., 10.,  0.],\n",
       "       [ 0., 10.,  0.],\n",
       "       [ 0.,  0., 10.],\n",
       "       [ 1.,  0., 10.],\n",
       "       [ 2.,  0., 10.],\n",
       "       [10.,  0., 10.],\n",
       "       [ 0.,  0., 10.],\n",
       "       [ 0.,  0., 10.],\n",
       "       [ 0.,  0., 10.],\n",
       "       [ 0.,  0., 19.],\n",
       "       [ 0.,  0., 19.],\n",
       "       [10.,  0., 10.],\n",
       "       [10.,  0., 13.],\n",
       "       [ 0., 10.,  0.],\n",
       "       [ 0., 10.,  0.],\n",
       "       [ 0.,  0., 18.],\n",
       "       [ 1.,  0., 13.],\n",
       "       [ 0., 11.,  0.],\n",
       "       [ 0., 10.,  0.],\n",
       "       [ 0., 11.,  0.],\n",
       "       [ 0.,  0., 14.],\n",
       "       [ 0.,  0., 13.],\n",
       "       [20.,  0.,  0.],\n",
       "       [ 0., 12.,  0.],\n",
       "       [ 0., 12.,  0.],\n",
       "       [ 0., 10.,  0.],\n",
       "       [20.,  0.,  0.],\n",
       "       [15.,  0.,  0.],\n",
       "       [12.,  0.,  0.],\n",
       "       [ 0.,  0., 28.],\n",
       "       [ 0.,  0., 16.],\n",
       "       [ 0.,  0., 19.],\n",
       "       [11.,  0.,  0.],\n",
       "       [ 0.,  0., 13.],\n",
       "       [ 0.,  0., 19.],\n",
       "       [ 0.,  0., 10.],\n",
       "       [ 0.,  0., 10.],\n",
       "       [ 0.,  0., 10.],\n",
       "       [ 0., 10.,  0.],\n",
       "       [ 0., 10.,  0.],\n",
       "       [ 0., 10.,  0.],\n",
       "       [10.,  0., 10.],\n",
       "       [10.,  0., 13.],\n",
       "       [ 0., 10.,  0.],\n",
       "       [ 0., 10.,  0.],\n",
       "       [ 0., 10.,  0.],\n",
       "       [ 0.,  0., 10.],\n",
       "       [ 0.,  0., 10.],\n",
       "       [10.,  0.,  0.],\n",
       "       [12.,  0.,  2.],\n",
       "       [11.,  0.,  1.],\n",
       "       [ 0., 10.,  0.],\n",
       "       [ 0., 10.,  0.],\n",
       "       [ 0., 10.,  0.],\n",
       "       [ 0.,  0., 10.],\n",
       "       [ 0.,  0., 10.],\n",
       "       [ 0.,  0., 10.],\n",
       "       [11.,  0.,  0.],\n",
       "       [10.,  0.,  0.],\n",
       "       [ 0., 10.,  0.],\n",
       "       [ 0., 10.,  0.],\n",
       "       [ 0.,  0., 11.],\n",
       "       [ 0.,  0., 10.],\n",
       "       [ 0., 10.,  0.],\n",
       "       [ 0., 10.,  0.],\n",
       "       [ 0., 10.,  0.],\n",
       "       [ 0.,  0., 14.],\n",
       "       [ 0.,  0., 14.],\n",
       "       [ 0.,  0., 22.],\n",
       "       [ 0.,  0., 16.],\n",
       "       [ 0., 10.,  0.],\n",
       "       [ 0., 10.,  0.],\n",
       "       [ 0., 10.,  0.],\n",
       "       [ 0., 11.,  0.],\n",
       "       [ 0., 11.,  0.],\n",
       "       [ 1.,  0., 10.],\n",
       "       [ 1.,  0., 11.],\n",
       "       [10.,  0.,  0.],\n",
       "       [10.,  0.,  0.],\n",
       "       [10.,  0.,  0.],\n",
       "       [10.,  0.,  0.],\n",
       "       [10.,  0.,  2.],\n",
       "       [12.,  0.,  0.],\n",
       "       [10.,  0.,  0.],\n",
       "       [ 1.,  0., 13.],\n",
       "       [ 0.,  0., 12.],\n",
       "       [ 0.,  0., 12.],\n",
       "       [ 0.,  0., 10.],\n",
       "       [ 0.,  0., 10.],\n",
       "       [10.,  0.,  2.],\n",
       "       [ 0.,  0., 12.],\n",
       "       [ 0.,  0., 14.],\n",
       "       [ 0.,  0., 11.],\n",
       "       [ 0.,  0., 10.],\n",
       "       [ 0.,  0., 16.],\n",
       "       [ 0.,  0., 10.],\n",
       "       [ 0.,  0., 10.],\n",
       "       [ 0., 10.,  0.],\n",
       "       [ 0., 10.,  0.],\n",
       "       [ 0., 10.,  0.],\n",
       "       [ 0.,  0., 10.],\n",
       "       [ 0.,  0., 10.],\n",
       "       [ 0.,  0., 10.],\n",
       "       [ 4.,  0., 13.],\n",
       "       [10.,  0., 10.],\n",
       "       [13.,  0.,  0.],\n",
       "       [ 0., 10.,  0.],\n",
       "       [ 0., 10.,  0.],\n",
       "       [ 0.,  0., 10.],\n",
       "       [ 0.,  0., 10.],\n",
       "       [ 1.,  0., 13.],\n",
       "       [ 2.,  0., 12.],\n",
       "       [ 0.,  0., 10.],\n",
       "       [ 0.,  0., 10.],\n",
       "       [ 0., 10.,  0.],\n",
       "       [ 0., 10.,  0.],\n",
       "       [ 0., 10.,  0.],\n",
       "       [ 0., 10.,  0.],\n",
       "       [ 0., 10.,  0.],\n",
       "       [ 0., 10.,  0.],\n",
       "       [ 0.,  0., 10.],\n",
       "       [ 0.,  0., 10.],\n",
       "       [ 0., 10.,  0.],\n",
       "       [ 0., 10.,  0.],\n",
       "       [ 0., 10.,  0.],\n",
       "       [ 0., 10.,  0.],\n",
       "       [10.,  0.,  4.],\n",
       "       [10.,  0.,  0.],\n",
       "       [10.,  0., 10.],\n",
       "       [ 0., 10.,  0.],\n",
       "       [ 0.,  0., 10.],\n",
       "       [ 0.,  0., 10.],\n",
       "       [ 0.,  0., 10.],\n",
       "       [ 0.,  0., 10.],\n",
       "       [ 0., 10.,  0.],\n",
       "       [ 0., 10.,  0.],\n",
       "       [ 0., 10.,  0.],\n",
       "       [ 0., 10.,  0.],\n",
       "       [ 0., 10.,  0.],\n",
       "       [ 0., 10.,  0.],\n",
       "       [ 0.,  0., 10.],\n",
       "       [ 0.,  0., 12.],\n",
       "       [ 0.,  0., 10.],\n",
       "       [ 0.,  0., 10.],\n",
       "       [ 0., 10.,  0.],\n",
       "       [ 0., 10.,  0.],\n",
       "       [ 0., 10.,  0.],\n",
       "       [ 0., 10.,  0.],\n",
       "       [ 0., 10.,  0.],\n",
       "       [ 0., 10.,  0.],\n",
       "       [ 0., 10.,  0.],\n",
       "       [ 0., 10.,  0.],\n",
       "       [ 0.,  0., 16.],\n",
       "       [10.,  0., 10.],\n",
       "       [12.,  0.,  2.],\n",
       "       [10.,  0.,  4.],\n",
       "       [ 0.,  0., 11.],\n",
       "       [ 0.,  0., 12.],\n",
       "       [ 0.,  0., 24.],\n",
       "       [ 0.,  0., 15.],\n",
       "       [ 0., 10.,  0.],\n",
       "       [ 0., 10.,  0.],\n",
       "       [ 0., 10.,  0.],\n",
       "       [ 0., 10.,  0.],\n",
       "       [ 0.,  0., 12.],\n",
       "       [ 0.,  0., 11.],\n",
       "       [12.,  0.,  0.],\n",
       "       [ 0.,  0., 14.],\n",
       "       [ 0.,  0., 11.],\n",
       "       [ 0.,  0., 10.],\n",
       "       [ 0.,  0., 10.],\n",
       "       [ 0.,  0., 10.],\n",
       "       [ 0.,  0., 10.],\n",
       "       [ 0.,  0., 13.],\n",
       "       [ 0.,  0., 13.],\n",
       "       [ 0., 10.,  0.],\n",
       "       [ 0., 10.,  0.],\n",
       "       [ 0.,  0., 15.],\n",
       "       [ 0.,  0., 10.],\n",
       "       [ 0.,  0., 13.],\n",
       "       [ 0.,  0., 10.],\n",
       "       [ 0., 10.,  0.],\n",
       "       [ 0., 10.,  0.],\n",
       "       [ 0.,  0., 10.],\n",
       "       [ 0.,  0., 10.],\n",
       "       [ 0.,  0., 10.]])"
      ]
     },
     "execution_count": 26,
     "metadata": {},
     "output_type": "execute_result"
    }
   ],
   "source": []
  },
  {
   "cell_type": "code",
   "execution_count": 7,
   "metadata": {},
   "outputs": [],
   "source": [
    "fs = FastShapelet(3, 10)"
   ]
  },
  {
   "cell_type": "code",
   "execution_count": 8,
   "metadata": {},
   "outputs": [],
   "source": [
    "shap = fs.fit(X_train[:100,:], y_train[:100])"
   ]
  },
  {
   "cell_type": "code",
   "execution_count": 11,
   "metadata": {},
   "outputs": [],
   "source": [
    "shap = fs.get_shapelets()"
   ]
  },
  {
   "cell_type": "code",
   "execution_count": 14,
   "metadata": {},
   "outputs": [
    {
     "data": {
      "text/plain": [
       "{2: [[array([-0.01298523,  0.01298523]),\n",
       "   -0.00035209162507401914,\n",
       "   0.029622063329928672],\n",
       "  [array([ 0.10601408, -0.10601408]),\n",
       "   -0.006576840860664346,\n",
       "   0.11224489795918369],\n",
       "  [array([ 0.02664021, -0.02664021]),\n",
       "   -0.008684544625621404,\n",
       "   0.6161616161616161]],\n",
       " 3: [[array([ 0.88752545, -1.20634202,  0.31621386]),\n",
       "   -0.018038025485044296,\n",
       "   -0.39393939393939403]],\n",
       " 4: [[array([ 1.20561958, -0.28855829, -1.15036594,  0.23330464]),\n",
       "   -0.018038025485044296,\n",
       "   -0.39393939393939403]],\n",
       " 5: [[array([-0.38225795,  1.13805239, -0.64803329,  0.34004375, -0.43542791]),\n",
       "   -0.006576840860664346,\n",
       "   0.11224489795918369],\n",
       "  [array([-0.3058173 ,  0.83462886, -0.36780024,  0.22273417, -0.38134801]),\n",
       "   -0.008684544625621404,\n",
       "   0.6161616161616161],\n",
       "  [array([ 1.23747837,  0.43183996, -1.14450761, -0.77980183,  0.23565429]),\n",
       "   -0.018038025485044296,\n",
       "   -0.39393939393939403]],\n",
       " 6: [[array([-0.53478867,  1.58769753, -0.55034762, -0.72028436,  0.60660831,\n",
       "          -0.3745021 ]),\n",
       "   -0.008684544625621404,\n",
       "   0.6161616161616161],\n",
       "  [array([ 1.01575563,  1.26364464, -0.0999736 , -1.45281976, -0.77050471,\n",
       "           0.02353149]),\n",
       "   -0.018038025485044296,\n",
       "   -0.39393939393939403]],\n",
       " 7: [[array([-0.7551042 ,  1.34761744,  0.11125409, -0.91734487, -0.17912031,\n",
       "           1.01109547, -0.62245593]),\n",
       "   -0.0001514592055416042,\n",
       "   0.041474654377880116],\n",
       "  [array([-0.45924461,  1.3655529 , -0.10744111, -0.58782729, -0.32199225,\n",
       "           0.71599102, -0.61124624]),\n",
       "   -0.007686745900642222,\n",
       "   0.2852233676975946],\n",
       "  [array([ 0.81676971,  1.35107666,  0.54590927, -1.43880591, -1.10873775,\n",
       "          -0.41336215,  0.23761623]),\n",
       "   -0.018038025485044296,\n",
       "   -0.39393939393939403]],\n",
       " 8: [[array([ 0.7516564 ,  1.16136156,  0.34353012, -1.78617846, -1.02362639,\n",
       "          -0.20279113,  0.20812558,  0.54792232]),\n",
       "   -0.018038025485044296,\n",
       "   -0.39393939393939403]],\n",
       " 9: [[array([-0.63435011,  0.20243711,  1.8147359 , -0.405373  , -0.74263387,\n",
       "          -0.48521036,  0.8550466 , -0.04673775, -0.54999762]),\n",
       "   -0.008684544625621404,\n",
       "   0.6161616161616161],\n",
       "  [array([ 0.82068735,  1.11347375,  0.72841524, -1.83780512, -1.19637092,\n",
       "          -0.5771686 , -0.12368204,  0.36252879,  0.71941226]),\n",
       "   -0.018038025485044296,\n",
       "   -0.39393939393939403]],\n",
       " 10: [[array([-0.16485145, -0.09588359,  2.73526899, -0.08562794, -0.12592028,\n",
       "          -0.36952129, -0.43027465, -0.42444728, -0.5284258 , -0.53054351]),\n",
       "   -0.006576840860664346,\n",
       "   0.11224489795918369],\n",
       "  [array([-0.71829143, -0.14594321,  2.41771308, -0.05021174, -0.69881856,\n",
       "          -0.84013874, -0.35287465,  0.79317084,  0.16721237, -0.58100008]),\n",
       "   -0.008684544625621404,\n",
       "   0.6161616161616161],\n",
       "  [array([ 0.981385  ,  1.24624468,  1.18321294,  0.77116086, -0.36560766,\n",
       "          -1.01380636, -1.38410768, -1.22864651, -0.47760938,  0.26248908]),\n",
       "   -0.018038025485044296,\n",
       "   -0.39393939393939403]]}"
      ]
     },
     "execution_count": 14,
     "metadata": {},
     "output_type": "execute_result"
    }
   ],
   "source": [
    "shap"
   ]
  },
  {
   "cell_type": "code",
   "execution_count": 24,
   "metadata": {},
   "outputs": [
    {
     "ename": "ValueError",
     "evalue": "x and y must have same first dimension, but have shapes (4,) and (1,)",
     "output_type": "error",
     "traceback": [
      "\u001b[0;31m---------------------------------------------------------------------------\u001b[0m",
      "\u001b[0;31mValueError\u001b[0m                                Traceback (most recent call last)",
      "Cell \u001b[0;32mIn[24], line 1\u001b[0m\n\u001b[0;32m----> 1\u001b[0m plt\u001b[39m.\u001b[39;49mplot(np\u001b[39m.\u001b[39;49marange(\u001b[39m4\u001b[39;49m), shap[\u001b[39m4\u001b[39;49m][\u001b[39m0\u001b[39;49m][\u001b[39m2\u001b[39;49m])\n",
      "File \u001b[0;32m~/opt/anaconda3/envs/fast_shap-env/lib/python3.10/site-packages/matplotlib/pyplot.py:2812\u001b[0m, in \u001b[0;36mplot\u001b[0;34m(scalex, scaley, data, *args, **kwargs)\u001b[0m\n\u001b[1;32m   2810\u001b[0m \u001b[39m@_copy_docstring_and_deprecators\u001b[39m(Axes\u001b[39m.\u001b[39mplot)\n\u001b[1;32m   2811\u001b[0m \u001b[39mdef\u001b[39;00m \u001b[39mplot\u001b[39m(\u001b[39m*\u001b[39margs, scalex\u001b[39m=\u001b[39m\u001b[39mTrue\u001b[39;00m, scaley\u001b[39m=\u001b[39m\u001b[39mTrue\u001b[39;00m, data\u001b[39m=\u001b[39m\u001b[39mNone\u001b[39;00m, \u001b[39m*\u001b[39m\u001b[39m*\u001b[39mkwargs):\n\u001b[0;32m-> 2812\u001b[0m     \u001b[39mreturn\u001b[39;00m gca()\u001b[39m.\u001b[39;49mplot(\n\u001b[1;32m   2813\u001b[0m         \u001b[39m*\u001b[39;49margs, scalex\u001b[39m=\u001b[39;49mscalex, scaley\u001b[39m=\u001b[39;49mscaley,\n\u001b[1;32m   2814\u001b[0m         \u001b[39m*\u001b[39;49m\u001b[39m*\u001b[39;49m({\u001b[39m\"\u001b[39;49m\u001b[39mdata\u001b[39;49m\u001b[39m\"\u001b[39;49m: data} \u001b[39mif\u001b[39;49;00m data \u001b[39mis\u001b[39;49;00m \u001b[39mnot\u001b[39;49;00m \u001b[39mNone\u001b[39;49;00m \u001b[39melse\u001b[39;49;00m {}), \u001b[39m*\u001b[39;49m\u001b[39m*\u001b[39;49mkwargs)\n",
      "File \u001b[0;32m~/opt/anaconda3/envs/fast_shap-env/lib/python3.10/site-packages/matplotlib/axes/_axes.py:1688\u001b[0m, in \u001b[0;36mAxes.plot\u001b[0;34m(self, scalex, scaley, data, *args, **kwargs)\u001b[0m\n\u001b[1;32m   1445\u001b[0m \u001b[39m\u001b[39m\u001b[39m\"\"\"\u001b[39;00m\n\u001b[1;32m   1446\u001b[0m \u001b[39mPlot y versus x as lines and/or markers.\u001b[39;00m\n\u001b[1;32m   1447\u001b[0m \n\u001b[0;32m   (...)\u001b[0m\n\u001b[1;32m   1685\u001b[0m \u001b[39m(``'green'``) or hex strings (``'#008000'``).\u001b[39;00m\n\u001b[1;32m   1686\u001b[0m \u001b[39m\"\"\"\u001b[39;00m\n\u001b[1;32m   1687\u001b[0m kwargs \u001b[39m=\u001b[39m cbook\u001b[39m.\u001b[39mnormalize_kwargs(kwargs, mlines\u001b[39m.\u001b[39mLine2D)\n\u001b[0;32m-> 1688\u001b[0m lines \u001b[39m=\u001b[39m [\u001b[39m*\u001b[39m\u001b[39mself\u001b[39m\u001b[39m.\u001b[39m_get_lines(\u001b[39m*\u001b[39margs, data\u001b[39m=\u001b[39mdata, \u001b[39m*\u001b[39m\u001b[39m*\u001b[39mkwargs)]\n\u001b[1;32m   1689\u001b[0m \u001b[39mfor\u001b[39;00m line \u001b[39min\u001b[39;00m lines:\n\u001b[1;32m   1690\u001b[0m     \u001b[39mself\u001b[39m\u001b[39m.\u001b[39madd_line(line)\n",
      "File \u001b[0;32m~/opt/anaconda3/envs/fast_shap-env/lib/python3.10/site-packages/matplotlib/axes/_base.py:311\u001b[0m, in \u001b[0;36m_process_plot_var_args.__call__\u001b[0;34m(self, data, *args, **kwargs)\u001b[0m\n\u001b[1;32m    309\u001b[0m     this \u001b[39m+\u001b[39m\u001b[39m=\u001b[39m args[\u001b[39m0\u001b[39m],\n\u001b[1;32m    310\u001b[0m     args \u001b[39m=\u001b[39m args[\u001b[39m1\u001b[39m:]\n\u001b[0;32m--> 311\u001b[0m \u001b[39myield from\u001b[39;00m \u001b[39mself\u001b[39;49m\u001b[39m.\u001b[39;49m_plot_args(\n\u001b[1;32m    312\u001b[0m     this, kwargs, ambiguous_fmt_datakey\u001b[39m=\u001b[39;49mambiguous_fmt_datakey)\n",
      "File \u001b[0;32m~/opt/anaconda3/envs/fast_shap-env/lib/python3.10/site-packages/matplotlib/axes/_base.py:504\u001b[0m, in \u001b[0;36m_process_plot_var_args._plot_args\u001b[0;34m(self, tup, kwargs, return_kwargs, ambiguous_fmt_datakey)\u001b[0m\n\u001b[1;32m    501\u001b[0m     \u001b[39mself\u001b[39m\u001b[39m.\u001b[39maxes\u001b[39m.\u001b[39myaxis\u001b[39m.\u001b[39mupdate_units(y)\n\u001b[1;32m    503\u001b[0m \u001b[39mif\u001b[39;00m x\u001b[39m.\u001b[39mshape[\u001b[39m0\u001b[39m] \u001b[39m!=\u001b[39m y\u001b[39m.\u001b[39mshape[\u001b[39m0\u001b[39m]:\n\u001b[0;32m--> 504\u001b[0m     \u001b[39mraise\u001b[39;00m \u001b[39mValueError\u001b[39;00m(\u001b[39mf\u001b[39m\u001b[39m\"\u001b[39m\u001b[39mx and y must have same first dimension, but \u001b[39m\u001b[39m\"\u001b[39m\n\u001b[1;32m    505\u001b[0m                      \u001b[39mf\u001b[39m\u001b[39m\"\u001b[39m\u001b[39mhave shapes \u001b[39m\u001b[39m{\u001b[39;00mx\u001b[39m.\u001b[39mshape\u001b[39m}\u001b[39;00m\u001b[39m and \u001b[39m\u001b[39m{\u001b[39;00my\u001b[39m.\u001b[39mshape\u001b[39m}\u001b[39;00m\u001b[39m\"\u001b[39m)\n\u001b[1;32m    506\u001b[0m \u001b[39mif\u001b[39;00m x\u001b[39m.\u001b[39mndim \u001b[39m>\u001b[39m \u001b[39m2\u001b[39m \u001b[39mor\u001b[39;00m y\u001b[39m.\u001b[39mndim \u001b[39m>\u001b[39m \u001b[39m2\u001b[39m:\n\u001b[1;32m    507\u001b[0m     \u001b[39mraise\u001b[39;00m \u001b[39mValueError\u001b[39;00m(\u001b[39mf\u001b[39m\u001b[39m\"\u001b[39m\u001b[39mx and y can be no greater than 2D, but have \u001b[39m\u001b[39m\"\u001b[39m\n\u001b[1;32m    508\u001b[0m                      \u001b[39mf\u001b[39m\u001b[39m\"\u001b[39m\u001b[39mshapes \u001b[39m\u001b[39m{\u001b[39;00mx\u001b[39m.\u001b[39mshape\u001b[39m}\u001b[39;00m\u001b[39m and \u001b[39m\u001b[39m{\u001b[39;00my\u001b[39m.\u001b[39mshape\u001b[39m}\u001b[39;00m\u001b[39m\"\u001b[39m)\n",
      "\u001b[0;31mValueError\u001b[0m: x and y must have same first dimension, but have shapes (4,) and (1,)"
     ]
    },
    {
     "data": {
      "image/png": "[encoded data removed]",
      "text/plain": [
       "<Figure size 640x480 with 1 Axes>"
      ]
     },
     "metadata": {},
     "output_type": "display_data"
    }
   ],
   "source": [
    "plt.plot(np.arange(4), shap[4][0][2])"
   ]
  },
  {
   "cell_type": "code",
   "execution_count": 30,
   "metadata": {},
   "outputs": [
    {
     "data": {
      "text/plain": [
       "{2: [[array([-0.01298523,  0.01298523]),\n",
       "   -0.00035209162507401914,\n",
       "   0.029622063329928672],\n",
       "  [array([ 0.10601408, -0.10601408]),\n",
       "   -0.006576840860664346,\n",
       "   0.11224489795918369],\n",
       "  [array([ 0.02664021, -0.02664021]),\n",
       "   -0.008684544625621404,\n",
       "   0.6161616161616161]],\n",
       " 3: [[array([ 0.88752545, -1.20634202,  0.31621386]),\n",
       "   -0.018038025485044296,\n",
       "   -0.39393939393939403]],\n",
       " 4: [[array([ 1.20561958, -0.28855829, -1.15036594,  0.23330464]),\n",
       "   -0.018038025485044296,\n",
       "   -0.39393939393939403]],\n",
       " 5: [[array([-0.38225795,  1.13805239, -0.64803329,  0.34004375, -0.43542791]),\n",
       "   -0.006576840860664346,\n",
       "   0.11224489795918369],\n",
       "  [array([-0.3058173 ,  0.83462886, -0.36780024,  0.22273417, -0.38134801]),\n",
       "   -0.008684544625621404,\n",
       "   0.6161616161616161],\n",
       "  [array([ 1.23747837,  0.43183996, -1.14450761, -0.77980183,  0.23565429]),\n",
       "   -0.018038025485044296,\n",
       "   -0.39393939393939403]],\n",
       " 6: [[array([-0.53478867,  1.58769753, -0.55034762, -0.72028436,  0.60660831,\n",
       "          -0.3745021 ]),\n",
       "   -0.008684544625621404,\n",
       "   0.6161616161616161],\n",
       "  [array([ 1.01575563,  1.26364464, -0.0999736 , -1.45281976, -0.77050471,\n",
       "           0.02353149]),\n",
       "   -0.018038025485044296,\n",
       "   -0.39393939393939403]],\n",
       " 7: [[array([-0.7551042 ,  1.34761744,  0.11125409, -0.91734487, -0.17912031,\n",
       "           1.01109547, -0.62245593]),\n",
       "   -0.0001514592055416042,\n",
       "   0.041474654377880116],\n",
       "  [array([-0.45924461,  1.3655529 , -0.10744111, -0.58782729, -0.32199225,\n",
       "           0.71599102, -0.61124624]),\n",
       "   -0.007686745900642222,\n",
       "   0.2852233676975946],\n",
       "  [array([ 0.81676971,  1.35107666,  0.54590927, -1.43880591, -1.10873775,\n",
       "          -0.41336215,  0.23761623]),\n",
       "   -0.018038025485044296,\n",
       "   -0.39393939393939403]],\n",
       " 8: [[array([ 0.7516564 ,  1.16136156,  0.34353012, -1.78617846, -1.02362639,\n",
       "          -0.20279113,  0.20812558,  0.54792232]),\n",
       "   -0.018038025485044296,\n",
       "   -0.39393939393939403]],\n",
       " 9: [[array([-0.63435011,  0.20243711,  1.8147359 , -0.405373  , -0.74263387,\n",
       "          -0.48521036,  0.8550466 , -0.04673775, -0.54999762]),\n",
       "   -0.008684544625621404,\n",
       "   0.6161616161616161],\n",
       "  [array([ 0.82068735,  1.11347375,  0.72841524, -1.83780512, -1.19637092,\n",
       "          -0.5771686 , -0.12368204,  0.36252879,  0.71941226]),\n",
       "   -0.018038025485044296,\n",
       "   -0.39393939393939403]],\n",
       " 10: [[array([-0.16485145, -0.09588359,  2.73526899, -0.08562794, -0.12592028,\n",
       "          -0.36952129, -0.43027465, -0.42444728, -0.5284258 , -0.53054351]),\n",
       "   -0.006576840860664346,\n",
       "   0.11224489795918369],\n",
       "  [array([-0.71829143, -0.14594321,  2.41771308, -0.05021174, -0.69881856,\n",
       "          -0.84013874, -0.35287465,  0.79317084,  0.16721237, -0.58100008]),\n",
       "   -0.008684544625621404,\n",
       "   0.6161616161616161],\n",
       "  [array([ 0.981385  ,  1.24624468,  1.18321294,  0.77116086, -0.36560766,\n",
       "          -1.01380636, -1.38410768, -1.22864651, -0.47760938,  0.26248908]),\n",
       "   -0.018038025485044296,\n",
       "   -0.39393939393939403]]}"
      ]
     },
     "execution_count": 30,
     "metadata": {},
     "output_type": "execute_result"
    }
   ],
   "source": [
    "shap"
   ]
  },
  {
   "cell_type": "code",
   "execution_count": null,
   "metadata": {},
   "outputs": [],
   "source": []
  }
 ],
 "metadata": {
  "kernelspec": {
   "display_name": "deep-hair-env",
   "language": "python",
   "name": "python3"
  },
  "language_info": {
   "codemirror_mode": {
    "name": "ipython",
    "version": 3
   },
   "file_extension": ".py",
   "mimetype": "text/x-python",
   "name": "python",
   "nbconvert_exporter": "python",
   "pygments_lexer": "ipython3",
   "version": "3.10.9"
  },
  "orig_nbformat": 4,
  "vscode": {
   "interpreter": {
    "hash": "61d2eccaf55f963626c9c00ffd279d81d1a389d2301fef3fe347c778aa72b72a"
   }
  }
 },
 "nbformat": 4,
 "nbformat_minor": 2
}
