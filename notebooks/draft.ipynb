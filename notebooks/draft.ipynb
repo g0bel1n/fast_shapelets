{
 "cells": [
  {
   "cell_type": "code",
   "execution_count": 1,
   "metadata": {},
   "outputs": [],
   "source": [
    "import sys \n",
    "import os\n",
    "\n",
    "if 'fast_shapelets' not in [el.split('/')[-1] for el in sys.path]:\n",
    "    curr_path = os.getcwd()\n",
    "    sys.path.append('/'.join((curr_path.split('/')[:-1])))"
   ]
  },
  {
   "cell_type": "code",
   "execution_count": 2,
   "metadata": {},
   "outputs": [],
   "source": [
    "from src import get_dataset, SAX, FastShapelet\n",
    "import numpy as np\n",
    "import matplotlib.pyplot as plt"
   ]
  },
  {
   "cell_type": "code",
   "execution_count": 3,
   "metadata": {},
   "outputs": [
    {
     "name": "stdout",
     "output_type": "stream",
     "text": [
      "Dataset StarLightCurves loading from cache \n",
      "\n"
     ]
    }
   ],
   "source": [
    "X_train,y_train, X_test, y_test = get_dataset('StarLightCurves')"
   ]
  },
  {
   "cell_type": "code",
   "execution_count": 4,
   "metadata": {},
   "outputs": [],
   "source": [
    "sax = SAX(13,11)"
   ]
  },
  {
   "cell_type": "code",
   "execution_count": 5,
   "metadata": {},
   "outputs": [],
   "source": [
    "X_transform = sax.transform(X_train[:100,:])"
   ]
  },
  {
   "cell_type": "code",
   "execution_count": 6,
   "metadata": {},
   "outputs": [
    {
     "data": {
      "text/plain": [
       "(100, 10)"
      ]
     },
     "execution_count": 6,
     "metadata": {},
     "output_type": "execute_result"
    }
   ],
   "source": [
    "X_transform.shape"
   ]
  },
  {
   "cell_type": "code",
   "execution_count": 7,
   "metadata": {},
   "outputs": [],
   "source": [
    "fs = FastShapelet(3,3)"
   ]
  },
  {
   "cell_type": "code",
   "execution_count": 9,
   "metadata": {},
   "outputs": [],
   "source": [
    "collision_table = fs._compute_collision_table(X_transform, r=10)"
   ]
  },
  {
   "cell_type": "code",
   "execution_count": 10,
   "metadata": {},
   "outputs": [
    {
     "data": {
      "text/plain": [
       "<matplotlib.image.AxesImage at 0x130301c60>"
      ]
     },
     "execution_count": 10,
     "metadata": {},
     "output_type": "execute_result"
    },
    {
     "data": {
      "image/png": "[encoded data removed]",
      "text/plain": [
       "<Figure size 1440x1440 with 1 Axes>"
      ]
     },
     "metadata": {
      "needs_background": "light"
     },
     "output_type": "display_data"
    }
   ],
   "source": [
    "#bigger image\n",
    "plt.figure(figsize=(20,20))\n",
    "plt.imshow(collision_table)"
   ]
  },
  {
   "cell_type": "code",
   "execution_count": 11,
   "metadata": {},
   "outputs": [
    {
     "ename": "IndexError",
     "evalue": "only integers, slices (`:`), ellipsis (`...`), numpy.newaxis (`None`) and integer or boolean arrays are valid indices",
     "output_type": "error",
     "traceback": [
      "\u001b[0;31m---------------------------------------------------------------------------\u001b[0m",
      "\u001b[0;31mIndexError\u001b[0m                                Traceback (most recent call last)",
      "\u001b[1;32m/Users/g0bel1n/fast_shapelets/notebooks/draft.ipynb Cell 10\u001b[0m in \u001b[0;36m<cell line: 1>\u001b[0;34m()\u001b[0m\n\u001b[0;32m----> <a href='vscode-notebook-cell:/Users/g0bel1n/fast_shapelets/notebooks/draft.ipynb#X25sZmlsZQ%3D%3D?line=0'>1</a>\u001b[0m distinguishing_score \u001b[39m=\u001b[39m fs\u001b[39m.\u001b[39;49m_compute_distinguishing_score(collision_table, y_train[:\u001b[39m100\u001b[39;49m])\n",
      "File \u001b[0;32m~/fast_shapelets/src/_fast_shapelet.py:60\u001b[0m, in \u001b[0;36mFastShapelet._compute_distinguishing_score\u001b[0;34m(collision_table, obj_classes)\u001b[0m\n\u001b[1;32m     58\u001b[0m close2ref \u001b[39m=\u001b[39m np\u001b[39m.\u001b[39mzeros((collision_table\u001b[39m.\u001b[39mshape[\u001b[39m0\u001b[39m], n_classes))        \n\u001b[1;32m     59\u001b[0m \u001b[39mfor\u001b[39;00m \u001b[39mcls\u001b[39m \u001b[39min\u001b[39;00m np\u001b[39m.\u001b[39munique(obj_classes):\n\u001b[0;32m---> 60\u001b[0m     close2ref[:,\u001b[39mcls\u001b[39m] \u001b[39m=\u001b[39m np\u001b[39m.\u001b[39msum(collision_table[:,obj_classes \u001b[39m==\u001b[39m \u001b[39mcls\u001b[39m], axis\u001b[39m=\u001b[39m\u001b[39m-\u001b[39m\u001b[39m1\u001b[39m)\n\u001b[1;32m     62\u001b[0m farRef \u001b[39m=\u001b[39m np\u001b[39m.\u001b[39mmax(close2ref) \u001b[39m-\u001b[39m close2ref\n\u001b[1;32m     64\u001b[0m \u001b[39mreturn\u001b[39;00m np\u001b[39m.\u001b[39msum(np\u001b[39m.\u001b[39mabs(close2ref \u001b[39m-\u001b[39m farRef), axis\u001b[39m=\u001b[39m\u001b[39m-\u001b[39m\u001b[39m1\u001b[39m)\n",
      "\u001b[0;31mIndexError\u001b[0m: only integers, slices (`:`), ellipsis (`...`), numpy.newaxis (`None`) and integer or boolean arrays are valid indices"
     ]
    }
   ],
   "source": [
    "distinguishing_score = fs._compute_distinguishing_score(collision_table, y_train[:100])"
   ]
  },
  {
   "cell_type": "code",
   "execution_count": 20,
   "metadata": {},
   "outputs": [],
   "source": [
    "y_train = y_train - 1"
   ]
  },
  {
   "cell_type": "code",
   "execution_count": 23,
   "metadata": {},
   "outputs": [],
   "source": [
    "obj_classes = y_train[:100]"
   ]
  },
  {
   "cell_type": "code",
   "execution_count": 25,
   "metadata": {},
   "outputs": [
    {
     "name": "stdout",
     "output_type": "stream",
     "text": [
      "0.0\n",
      "1.0\n",
      "2.0\n"
     ]
    },
    {
     "data": {
      "text/plain": [
       "array([64., 64., 64., 60., 64., 64., 64., 64., 84., 62., 60., 60., 72.,\n",
       "       58., 62., 62., 64., 64., 64., 64., 62., 60., 44., 64., 64., 64.,\n",
       "       66., 66., 44., 38., 64., 64., 64., 56., 62., 64., 62., 56., 58.,\n",
       "       68., 60., 60., 64., 68., 58., 60., 84., 60., 66., 62., 58., 66.,\n",
       "       64., 64., 64., 64., 64., 64., 44., 38., 64., 64., 64., 64., 64.,\n",
       "       64., 56., 60., 64., 64., 64., 64., 64., 64., 62., 64., 64., 64.,\n",
       "       62., 64., 64., 64., 64., 56., 56., 72., 60., 64., 64., 64., 62.,\n",
       "       62., 62., 60., 64., 64., 64., 64., 60., 60., 64., 56., 60., 60.,\n",
       "       64., 64., 60., 60., 56., 62., 64., 60., 64., 64., 64., 64., 64.,\n",
       "       64., 64., 64., 50., 44., 58., 64., 64., 64., 64., 56., 56., 64.,\n",
       "       64., 64., 64., 64., 64., 64., 64., 64., 64., 64., 64., 64., 64.,\n",
       "       56., 64., 44., 64., 64., 64., 64., 64., 64., 64., 64., 64., 64.,\n",
       "       64., 64., 60., 64., 64., 64., 64., 64., 64., 64., 64., 64., 64.,\n",
       "       60., 44., 56., 56., 62., 60., 76., 58., 64., 64., 64., 64., 60.,\n",
       "       62., 60., 56., 62., 64., 64., 64., 64., 58., 58., 64., 64., 58.,\n",
       "       64., 58., 64., 64., 64., 64., 64., 64.])"
      ]
     },
     "execution_count": 25,
     "metadata": {},
     "output_type": "execute_result"
    }
   ],
   "source": [
    "n_classes = np.unique(obj_classes).shape[0]\n",
    "\n",
    "        #group collision table cols by class\n",
    "        \n",
    "close2ref = np.zeros((collision_table.shape[0], n_classes))        \n",
    "for cls in np.unique(obj_classes):\n",
    "    print(cls)\n",
    "    close2ref[:,int(cls)] = np.sum(collision_table[:,obj_classes == cls], axis=-1)\n",
    "\n",
    "farRef = np.max(close2ref) - close2ref\n",
    "\n",
    "np.sum(np.abs(close2ref - farRef), axis=-1)"
   ]
  },
  {
   "cell_type": "code",
   "execution_count": 26,
   "metadata": {},
   "outputs": [
    {
     "data": {
      "text/plain": [
       "array([[ 0.,  0., 10.],\n",
       "       [ 0.,  0., 10.],\n",
       "       [ 0.,  0., 10.],\n",
       "       [12.,  0.,  0.],\n",
       "       [ 0.,  0., 10.],\n",
       "       [ 0.,  0., 18.],\n",
       "       [ 0., 10.,  0.],\n",
       "       [ 0., 10.,  0.],\n",
       "       [ 0.,  0., 28.],\n",
       "       [ 0.,  0., 17.],\n",
       "       [ 0., 12.,  0.],\n",
       "       [ 0., 12.,  0.],\n",
       "       [ 0.,  0., 22.],\n",
       "       [ 0.,  0., 13.],\n",
       "       [ 0.,  0., 11.],\n",
       "       [ 0.,  0., 11.],\n",
       "       [ 0.,  0., 10.],\n",
       "       [ 0., 10.,  0.],\n",
       "       [ 0., 10.,  0.],\n",
       "       [ 0.,  0., 10.],\n",
       "       [ 1.,  0., 10.],\n",
       "       [ 2.,  0., 10.],\n",
       "       [10.,  0., 10.],\n",
       "       [ 0.,  0., 10.],\n",
       "       [ 0.,  0., 10.],\n",
       "       [ 0.,  0., 10.],\n",
       "       [ 0.,  0., 19.],\n",
       "       [ 0.,  0., 19.],\n",
       "       [10.,  0., 10.],\n",
       "       [10.,  0., 13.],\n",
       "       [ 0., 10.,  0.],\n",
       "       [ 0., 10.,  0.],\n",
       "       [ 0.,  0., 18.],\n",
       "       [ 1.,  0., 13.],\n",
       "       [ 0., 11.,  0.],\n",
       "       [ 0., 10.,  0.],\n",
       "       [ 0., 11.,  0.],\n",
       "       [ 0.,  0., 14.],\n",
       "       [ 0.,  0., 13.],\n",
       "       [20.,  0.,  0.],\n",
       "       [ 0., 12.,  0.],\n",
       "       [ 0., 12.,  0.],\n",
       "       [ 0., 10.,  0.],\n",
       "       [20.,  0.,  0.],\n",
       "       [15.,  0.,  0.],\n",
       "       [12.,  0.,  0.],\n",
       "       [ 0.,  0., 28.],\n",
       "       [ 0.,  0., 16.],\n",
       "       [ 0.,  0., 19.],\n",
       "       [11.,  0.,  0.],\n",
       "       [ 0.,  0., 13.],\n",
       "       [ 0.,  0., 19.],\n",
       "       [ 0.,  0., 10.],\n",
       "       [ 0.,  0., 10.],\n",
       "       [ 0.,  0., 10.],\n",
       "       [ 0., 10.,  0.],\n",
       "       [ 0., 10.,  0.],\n",
       "       [ 0., 10.,  0.],\n",
       "       [10.,  0., 10.],\n",
       "       [10.,  0., 13.],\n",
       "       [ 0., 10.,  0.],\n",
       "       [ 0., 10.,  0.],\n",
       "       [ 0., 10.,  0.],\n",
       "       [ 0.,  0., 10.],\n",
       "       [ 0.,  0., 10.],\n",
       "       [10.,  0.,  0.],\n",
       "       [12.,  0.,  2.],\n",
       "       [11.,  0.,  1.],\n",
       "       [ 0., 10.,  0.],\n",
       "       [ 0., 10.,  0.],\n",
       "       [ 0., 10.,  0.],\n",
       "       [ 0.,  0., 10.],\n",
       "       [ 0.,  0., 10.],\n",
       "       [ 0.,  0., 10.],\n",
       "       [11.,  0.,  0.],\n",
       "       [10.,  0.,  0.],\n",
       "       [ 0., 10.,  0.],\n",
       "       [ 0., 10.,  0.],\n",
       "       [ 0.,  0., 11.],\n",
       "       [ 0.,  0., 10.],\n",
       "       [ 0., 10.,  0.],\n",
       "       [ 0., 10.,  0.],\n",
       "       [ 0., 10.,  0.],\n",
       "       [ 0.,  0., 14.],\n",
       "       [ 0.,  0., 14.],\n",
       "       [ 0.,  0., 22.],\n",
       "       [ 0.,  0., 16.],\n",
       "       [ 0., 10.,  0.],\n",
       "       [ 0., 10.,  0.],\n",
       "       [ 0., 10.,  0.],\n",
       "       [ 0., 11.,  0.],\n",
       "       [ 0., 11.,  0.],\n",
       "       [ 1.,  0., 10.],\n",
       "       [ 1.,  0., 11.],\n",
       "       [10.,  0.,  0.],\n",
       "       [10.,  0.,  0.],\n",
       "       [10.,  0.,  0.],\n",
       "       [10.,  0.,  0.],\n",
       "       [10.,  0.,  2.],\n",
       "       [12.,  0.,  0.],\n",
       "       [10.,  0.,  0.],\n",
       "       [ 1.,  0., 13.],\n",
       "       [ 0.,  0., 12.],\n",
       "       [ 0.,  0., 12.],\n",
       "       [ 0.,  0., 10.],\n",
       "       [ 0.,  0., 10.],\n",
       "       [10.,  0.,  2.],\n",
       "       [ 0.,  0., 12.],\n",
       "       [ 0.,  0., 14.],\n",
       "       [ 0.,  0., 11.],\n",
       "       [ 0.,  0., 10.],\n",
       "       [ 0.,  0., 16.],\n",
       "       [ 0.,  0., 10.],\n",
       "       [ 0.,  0., 10.],\n",
       "       [ 0., 10.,  0.],\n",
       "       [ 0., 10.,  0.],\n",
       "       [ 0., 10.,  0.],\n",
       "       [ 0.,  0., 10.],\n",
       "       [ 0.,  0., 10.],\n",
       "       [ 0.,  0., 10.],\n",
       "       [ 4.,  0., 13.],\n",
       "       [10.,  0., 10.],\n",
       "       [13.,  0.,  0.],\n",
       "       [ 0., 10.,  0.],\n",
       "       [ 0., 10.,  0.],\n",
       "       [ 0.,  0., 10.],\n",
       "       [ 0.,  0., 10.],\n",
       "       [ 1.,  0., 13.],\n",
       "       [ 2.,  0., 12.],\n",
       "       [ 0.,  0., 10.],\n",
       "       [ 0.,  0., 10.],\n",
       "       [ 0., 10.,  0.],\n",
       "       [ 0., 10.,  0.],\n",
       "       [ 0., 10.,  0.],\n",
       "       [ 0., 10.,  0.],\n",
       "       [ 0., 10.,  0.],\n",
       "       [ 0., 10.,  0.],\n",
       "       [ 0.,  0., 10.],\n",
       "       [ 0.,  0., 10.],\n",
       "       [ 0., 10.,  0.],\n",
       "       [ 0., 10.,  0.],\n",
       "       [ 0., 10.,  0.],\n",
       "       [ 0., 10.,  0.],\n",
       "       [10.,  0.,  4.],\n",
       "       [10.,  0.,  0.],\n",
       "       [10.,  0., 10.],\n",
       "       [ 0., 10.,  0.],\n",
       "       [ 0.,  0., 10.],\n",
       "       [ 0.,  0., 10.],\n",
       "       [ 0.,  0., 10.],\n",
       "       [ 0.,  0., 10.],\n",
       "       [ 0., 10.,  0.],\n",
       "       [ 0., 10.,  0.],\n",
       "       [ 0., 10.,  0.],\n",
       "       [ 0., 10.,  0.],\n",
       "       [ 0., 10.,  0.],\n",
       "       [ 0., 10.,  0.],\n",
       "       [ 0.,  0., 10.],\n",
       "       [ 0.,  0., 12.],\n",
       "       [ 0.,  0., 10.],\n",
       "       [ 0.,  0., 10.],\n",
       "       [ 0., 10.,  0.],\n",
       "       [ 0., 10.,  0.],\n",
       "       [ 0., 10.,  0.],\n",
       "       [ 0., 10.,  0.],\n",
       "       [ 0., 10.,  0.],\n",
       "       [ 0., 10.,  0.],\n",
       "       [ 0., 10.,  0.],\n",
       "       [ 0., 10.,  0.],\n",
       "       [ 0.,  0., 16.],\n",
       "       [10.,  0., 10.],\n",
       "       [12.,  0.,  2.],\n",
       "       [10.,  0.,  4.],\n",
       "       [ 0.,  0., 11.],\n",
       "       [ 0.,  0., 12.],\n",
       "       [ 0.,  0., 24.],\n",
       "       [ 0.,  0., 15.],\n",
       "       [ 0., 10.,  0.],\n",
       "       [ 0., 10.,  0.],\n",
       "       [ 0., 10.,  0.],\n",
       "       [ 0., 10.,  0.],\n",
       "       [ 0.,  0., 12.],\n",
       "       [ 0.,  0., 11.],\n",
       "       [12.,  0.,  0.],\n",
       "       [ 0.,  0., 14.],\n",
       "       [ 0.,  0., 11.],\n",
       "       [ 0.,  0., 10.],\n",
       "       [ 0.,  0., 10.],\n",
       "       [ 0.,  0., 10.],\n",
       "       [ 0.,  0., 10.],\n",
       "       [ 0.,  0., 13.],\n",
       "       [ 0.,  0., 13.],\n",
       "       [ 0., 10.,  0.],\n",
       "       [ 0., 10.,  0.],\n",
       "       [ 0.,  0., 15.],\n",
       "       [ 0.,  0., 10.],\n",
       "       [ 0.,  0., 13.],\n",
       "       [ 0.,  0., 10.],\n",
       "       [ 0., 10.,  0.],\n",
       "       [ 0., 10.,  0.],\n",
       "       [ 0.,  0., 10.],\n",
       "       [ 0.,  0., 10.],\n",
       "       [ 0.,  0., 10.]])"
      ]
     },
     "execution_count": 26,
     "metadata": {},
     "output_type": "execute_result"
    }
   ],
   "source": []
  },
  {
   "cell_type": "code",
   "execution_count": null,
   "metadata": {},
   "outputs": [],
   "source": []
  }
 ],
 "metadata": {
  "kernelspec": {
   "display_name": "deep-hair-env",
   "language": "python",
   "name": "python3"
  },
  "language_info": {
   "codemirror_mode": {
    "name": "ipython",
    "version": 3
   },
   "file_extension": ".py",
   "mimetype": "text/x-python",
   "name": "python",
   "nbconvert_exporter": "python",
   "pygments_lexer": "ipython3",
   "version": "3.10.5"
  },
  "orig_nbformat": 4,
  "vscode": {
   "interpreter": {
    "hash": "61d2eccaf55f963626c9c00ffd279d81d1a389d2301fef3fe347c778aa72b72a"
   }
  }
 },
 "nbformat": 4,
 "nbformat_minor": 2
}
