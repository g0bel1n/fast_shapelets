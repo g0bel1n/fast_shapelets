{
 "cells": [
  {
   "cell_type": "code",
   "execution_count": 4,
   "metadata": {
    "tags": []
   },
   "outputs": [
    {
     "name": "stdout",
     "output_type": "stream",
     "text": [
      "Dataset StarLightCurves loading from cache \n",
      "\n",
      "\u001b[2KComputing all shapelets...\n",
      "\u001b[2KComputing shapelet 1/4\n",
      "\u001b[2KNo GPU/TPU found, falling back to CPU. (Set TF_CPP_MIN_LOG_LEVEL=0 and rerun for\n",
      "more info.)\n",
      "\u001b[2KComputing collision table...\n",
      "\u001b[2K^C\n",
      "\u001b[2K\n",
      "\u001b[?25hTraceback (most recent call last):\n",
      "  File \"/home/onyxia/work/fast_shapelets/main.py\", line 38, in <module>\n",
      "    fs.fit(X_train, y_train)\n",
      "  File \"/home/onyxia/work/fast_shapelets/src/_fast_shapelet.py\", line 225, in fit\n",
      "    tscand = self.get_candidates_shapelets(y, X_, _len, subtask, progress)\n",
      "  File \"/home/onyxia/work/fast_shapelets/src/_fast_shapelet.py\", line 263, in get_candidates_shapelets\n",
      "    ) = self._compute_collision_table(\n",
      "  File \"/home/onyxia/work/fast_shapelets/src/_fast_shapelet.py\", line 76, in _compute_collision_table\n",
      "    objs, original_2_unique_concat_array_map = self.reformat_sax_strings(\n",
      "  File \"/home/onyxia/work/fast_shapelets/src/_fast_shapelet.py\", line 140, in reformat_sax_strings\n",
      "    unique_strings, idxs = jnp.unique(\n",
      "  File \"/opt/mamba/lib/python3.10/site-packages/jax/_src/numpy/setops.py\", line 341, in unique\n",
      "    return _unique(arr, axis_int, return_index, return_inverse,\n",
      "  File \"/opt/mamba/lib/python3.10/site-packages/jax/_src/numpy/setops.py\", line 270, in _unique\n",
      "    result = aux[ind] if aux.size else aux\n",
      "  File \"/opt/mamba/lib/python3.10/site-packages/jax/_src/array.py\", line 275, in __getitem__\n",
      "    return lax_numpy._rewriting_take(self, idx)\n",
      "  File \"/opt/mamba/lib/python3.10/site-packages/jax/_src/numpy/lax_numpy.py\", line 3943, in _rewriting_take\n",
      "    return _gather(arr, treedef, static_idx, dynamic_idx, indices_are_sorted,\n",
      "  File \"/opt/mamba/lib/python3.10/site-packages/jax/_src/numpy/lax_numpy.py\", line 3970, in _gather\n",
      "    y = lax.gather(\n",
      "  File \"/opt/mamba/lib/python3.10/site-packages/jax/_src/lax/slicing.py\", line 281, in gather\n",
      "    return gather_p.bind(\n",
      "  File \"/opt/mamba/lib/python3.10/site-packages/jax/_src/core.py\", line 360, in bind\n",
      "    return self.bind_with_trace(find_top_trace(args), args, params)\n",
      "  File \"/opt/mamba/lib/python3.10/site-packages/jax/_src/core.py\", line 363, in bind_with_trace\n",
      "    out = trace.process_primitive(self, map(trace.full_raise, args), params)\n",
      "  File \"/opt/mamba/lib/python3.10/site-packages/jax/_src/core.py\", line 807, in process_primitive\n",
      "    return primitive.impl(*tracers, **params)\n",
      "  File \"/opt/mamba/lib/python3.10/site-packages/jax/_src/dispatch.py\", line 122, in apply_primitive\n",
      "    compiled_fun = xla_primitive_callable(prim, *unsafe_map(arg_spec, args),\n",
      "  File \"/opt/mamba/lib/python3.10/site-packages/jax/_src/util.py\", line 254, in wrapper\n",
      "    return cached(config._trace_context(), *args, **kwargs)\n",
      "  File \"/opt/mamba/lib/python3.10/site-packages/jax/_src/util.py\", line 247, in cached\n",
      "    return f(*args, **kwargs)\n",
      "  File \"/opt/mamba/lib/python3.10/site-packages/jax/_src/dispatch.py\", line 201, in xla_primitive_callable\n",
      "    compiled = _xla_callable_uncached(lu.wrap_init(prim_fun), device, None,\n",
      "  File \"/opt/mamba/lib/python3.10/site-packages/jax/_src/dispatch.py\", line 357, in _xla_callable_uncached\n",
      "    return computation.compile(_allow_propagation_to_outputs=allow_prop).unsafe_call\n",
      "  File \"/opt/mamba/lib/python3.10/site-packages/jax/_src/interpreters/pxla.py\", line 3373, in compile\n",
      "    executable = self._compile_unloaded(\n",
      "  File \"/opt/mamba/lib/python3.10/site-packages/jax/_src/interpreters/pxla.py\", line 3344, in _compile_unloaded\n",
      "    return UnloadedMeshExecutable.from_hlo(\n",
      "  File \"/opt/mamba/lib/python3.10/site-packages/jax/_src/interpreters/pxla.py\", line 3626, in from_hlo\n",
      "    xla_executable = dispatch.compile_or_get_cached(\n",
      "  File \"/opt/mamba/lib/python3.10/site-packages/jax/_src/dispatch.py\", line 1091, in compile_or_get_cached\n",
      "    return backend_compile(backend, serialized_computation, compile_options,\n",
      "  File \"/opt/mamba/lib/python3.10/site-packages/jax/_src/profiler.py\", line 314, in wrapper\n",
      "    return func(*args, **kwargs)\n",
      "  File \"/opt/mamba/lib/python3.10/site-packages/jax/_src/dispatch.py\", line 1036, in backend_compile\n",
      "    return backend.compile(built_c, compile_options=options)\n",
      "KeyboardInterrupt\n"
     ]
    }
   ],
   "source": [
    "!python main.py --verbose 1"
   ]
  },
  {
   "cell_type": "code",
   "execution_count": 1,
   "metadata": {
    "tags": []
   },
   "outputs": [],
   "source": [
    "    import sys \n",
    "    import os\n",
    "    \n",
    "    if 'fast_shapelets' not in [el.split('/')[-1] for el in sys.path]:\n",
    "        curr_path = os.getcwd()\n",
    "        sys.path.append('/'.join((curr_path.split('/')[:-1])))"
   ]
  },
  {
   "cell_type": "code",
   "execution_count": 2,
   "metadata": {
    "tags": []
   },
   "outputs": [],
   "source": [
    "from src import FastShapelets, get_dataset\n",
    "import pickle"
   ]
  },
  {
   "cell_type": "code",
   "execution_count": 3,
   "metadata": {
    "tags": []
   },
   "outputs": [
    {
     "name": "stderr",
     "output_type": "stream",
     "text": [
      "No GPU/TPU found, falling back to CPU. (Set TF_CPP_MIN_LOG_LEVEL=0 and rerun for more info.)\n"
     ]
    }
   ],
   "source": [
    "with open('../shap.pkl', 'rb') as f :\n",
    "    shapelets=pickle.load(f)"
   ]
  },
  {
   "cell_type": "code",
   "execution_count": 4,
   "metadata": {
    "tags": []
   },
   "outputs": [
    {
     "name": "stdout",
     "output_type": "stream",
     "text": [
      "Dataset StarLightCurves loading from cache \n",
      "\n"
     ]
    }
   ],
   "source": [
    "fs = FastShapelets().fit(shapelets = shapelets)\n",
    "X_train,y_train, X_test, y_test = get_dataset('StarLightCurves')\n",
    "y_train = y_train-1\n",
    "y_test = y_test-1\n",
    "        "
   ]
  },
  {
   "cell_type": "code",
   "execution_count": 9,
   "metadata": {
    "tags": []
   },
   "outputs": [],
   "source": [
    "train_shap = fs.transform(X_train)\n",
    "test_shap = fs.transform(X_test)\n"
   ]
  },
  {
   "cell_type": "code",
   "execution_count": 11,
   "metadata": {
    "tags": []
   },
   "outputs": [
    {
     "data": {
      "text/plain": [
       "0.9010441962117532"
      ]
     },
     "execution_count": 11,
     "metadata": {},
     "output_type": "execute_result"
    }
   ],
   "source": [
    "from sklearn.neighbors import KNeighborsClassifier\n",
    "from sklearn.metrics import balanced_accuracy_score\n",
    "\n",
    "\n",
    "knn = KNeighborsClassifier(n_neighbors=1)\n",
    "knn.fit(train_shap, y_train)\n",
    "knn.score(test_shap, y_test)\n",
    "#balanced_accuracy_score(y_test, knn.predict(test_shap))\n"
   ]
  },
  {
   "cell_type": "code",
   "execution_count": null,
   "metadata": {},
   "outputs": [],
   "source": []
  }
 ],
 "metadata": {
  "kernelspec": {
   "display_name": "Python 3 (ipykernel)",
   "language": "python",
   "name": "python3"
  },
  "language_info": {
   "codemirror_mode": {
    "name": "ipython",
    "version": 3
   },
   "file_extension": ".py",
   "mimetype": "text/x-python",
   "name": "python",
   "nbconvert_exporter": "python",
   "pygments_lexer": "ipython3",
   "version": "3.10.9"
  }
 },
 "nbformat": 4,
 "nbformat_minor": 4
}
