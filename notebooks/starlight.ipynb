{
 "cells": [
  {
   "cell_type": "code",
   "execution_count": 14,
   "metadata": {
    "tags": []
   },
   "outputs": [
    {
     "name": "stdout",
     "output_type": "stream",
     "text": [
      "Dataset StarLightCurves loading from cache \n",
      "\n",
      "\u001b[2KComputing all shapelets...\n",
      "\u001b[2KComputing shapelet 1/9\n",
      "\u001b[2KNo GPU/TPU found, falling back to CPU. (Set TF_CPP_MIN_LOG_LEVEL=0 and rerun for\n",
      "more info.)\n",
      "\u001b[2K         Computing collision table...\n",
      "\u001b[2K         Computing distances \n",
      "\u001b[2K         Finding best shapelet \n",
      "\u001b[2KComputing shapelet 2/9\n",
      "\u001b[2K         Computing collision table...\n",
      "\u001b[2K         Computing distances \n",
      "\u001b[2K         Finding best shapelet \n",
      "\u001b[2KComputing shapelet 3/9\n",
      "\u001b[2K         Computing collision table...\n",
      "\u001b[2K         Computing distances \n",
      "\u001b[2K         Finding best shapelet \n",
      "\u001b[2KComputing shapelet 4/9\n",
      "\u001b[2K         Computing collision table...\n",
      "\u001b[2K         Computing distances \n",
      "\u001b[2K         Finding best shapelet \n",
      "\u001b[2KComputing shapelet 5/9\n",
      "\u001b[2K         Computing collision table...\n",
      "\u001b[2K         Computing distances \n",
      "\u001b[2K         Finding best shapelet \n",
      "\u001b[2KComputing shapelet 6/9\n",
      "\u001b[2K         Computing collision table...\n",
      "\u001b[2K         Computing distances \n",
      "\u001b[2K         Finding best shapelet \n",
      "\u001b[2KComputing shapelet 7/9\n",
      "\u001b[2K         Computing collision table...\n",
      "\u001b[2K         Computing distances \n",
      "\u001b[2K         Finding best shapelet \n",
      "\u001b[2KComputing shapelet 8/9\n",
      "\u001b[2K         Computing collision table...\n",
      "\u001b[2K         Computing distances \n",
      "\u001b[2K         Finding best shapelet \n",
      "\u001b[2KComputing shapelet 9/9\n",
      "\u001b[2K         Computing collision table...\n",
      "\u001b[2K         Computing distances \n",
      "\u001b[2K         Finding best shapelet \n",
      "\u001b[2K\n",
      "\u001b[?25hfile saved at shap_(100, Namespace(n_jobs=1, min_shap_len=100, max_shap_len=500, step_shap_len=50, cardinality=4, dimensionality=16, r=10, verbose=1))_501_50.pkl\n"
     ]
    }
   ],
   "source": [
    "!python main.py --verbose 1 --min_shap_len 100 --max_shap_len 500 --step_shap_len 50"
   ]
  },
  {
   "cell_type": "code",
   "execution_count": 17,
   "metadata": {
    "tags": []
   },
   "outputs": [],
   "source": [
    "    import sys \n",
    "    import os\n",
    "    \n",
    "    if 'fast_shapelets' not in [el.split('/')[-1] for el in sys.path]:\n",
    "        curr_path = os.getcwd()\n",
    "        sys.path.append('/'.join((curr_path.split('/')[:-1])))"
   ]
  },
  {
   "cell_type": "code",
   "execution_count": 18,
   "metadata": {
    "tags": []
   },
   "outputs": [],
   "source": [
    "from src import FastShapelets, get_dataset\n",
    "import pickle"
   ]
  },
  {
   "cell_type": "code",
   "execution_count": 20,
   "metadata": {
    "tags": []
   },
   "outputs": [
    {
     "name": "stdout",
     "output_type": "stream",
     "text": [
      "\u001b[0m\u001b[01;34mdata\u001b[0m/       output.png     README.md            shap.pkl\n",
      "main.py     output.pstats  requirements.txt     \u001b[01;34msrc\u001b[0m/\n",
      "\u001b[01;34mnotebooks\u001b[0m/  profiler.py    shap_100_501_50.pkl  \u001b[01;34mtests\u001b[0m/\n"
     ]
    }
   ],
   "source": [
    "%ls"
   ]
  },
  {
   "cell_type": "code",
   "execution_count": 21,
   "metadata": {
    "tags": []
   },
   "outputs": [],
   "source": [
    "with open('shap_100_501_50.pkl', 'rb') as f :\n",
    "    shapelets=pickle.load(f)"
   ]
  },
  {
   "cell_type": "code",
   "execution_count": 22,
   "metadata": {
    "tags": []
   },
   "outputs": [
    {
     "name": "stdout",
     "output_type": "stream",
     "text": [
      "Dataset StarLightCurves loading from cache \n",
      "\n"
     ]
    }
   ],
   "source": [
    "fs = FastShapelets().fit(shapelets = shapelets)\n",
    "X_train,y_train, X_test, y_test = get_dataset('StarLightCurves')\n",
    "y_train = y_train-1\n",
    "y_test = y_test-1\n",
    "        "
   ]
  },
  {
   "cell_type": "code",
   "execution_count": 23,
   "metadata": {
    "tags": []
   },
   "outputs": [],
   "source": [
    "train_shap = fs.transform(X_train)\n",
    "test_shap = fs.transform(X_test)\n"
   ]
  },
  {
   "cell_type": "code",
   "execution_count": 11,
   "metadata": {
    "tags": []
   },
   "outputs": [
    {
     "data": {
      "text/plain": [
       "0.9010441962117532"
      ]
     },
     "execution_count": 11,
     "metadata": {},
     "output_type": "execute_result"
    }
   ],
   "source": [
    "from sklearn.neighbors import KNeighborsClassifier\n",
    "from sklearn.metrics import balanced_accuracy_score\n",
    "\n",
    "\n",
    "knn = KNeighborsClassifier(n_neighbors=1)\n",
    "knn.fit(train_shap, y_train)\n",
    "knn.score(test_shap, y_test)\n",
    "#balanced_accuracy_score(y_test, knn.predict(test_shap))\n"
   ]
  }
 ],
 "metadata": {
  "kernelspec": {
   "display_name": "Python 3 (ipykernel)",
   "language": "python",
   "name": "python3"
  },
  "language_info": {
   "codemirror_mode": {
    "name": "ipython",
    "version": 3
   },
   "file_extension": ".py",
   "mimetype": "text/x-python",
   "name": "python",
   "nbconvert_exporter": "python",
   "pygments_lexer": "ipython3",
   "version": "3.10.9"
  }
 },
 "nbformat": 4,
 "nbformat_minor": 4
}
