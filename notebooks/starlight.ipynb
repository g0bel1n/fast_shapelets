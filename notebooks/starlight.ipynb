{
 "cells": [
  {
   "cell_type": "code",
   "execution_count": 1,
   "metadata": {},
   "outputs": [],
   "source": [
    "import sys \n",
    "import os\n",
    "\n",
    "if 'fast_shapelets' not in [el.split('/')[-1] for el in sys.path]:\n",
    "    curr_path = os.getcwd()\n",
    "    sys.path.append('/'.join((curr_path.split('/')[:-1])))"
   ]
  },
  {
   "cell_type": "code",
   "execution_count": 2,
   "metadata": {},
   "outputs": [],
   "source": [
    "from src import get_dataset, SAX, FastShapelet\n",
    "import numpy as np\n",
    "import matplotlib.pyplot as plt"
   ]
  },
  {
   "cell_type": "code",
   "execution_count": 3,
   "metadata": {},
   "outputs": [
    {
     "name": "stdout",
     "output_type": "stream",
     "text": [
      "Dataset StarLightCurves loading from cache \n",
      "\n"
     ]
    }
   ],
   "source": [
    "X_train,y_train, X_test, y_test = get_dataset('StarLightCurves')\n",
    "y_train = y_train-1\n",
    "y_test = y_test-1\n",
    "\n",
    "X = X_train[:500]\n",
    "y = y_train[:500]"
   ]
  },
  {
   "cell_type": "code",
   "execution_count": 4,
   "metadata": {},
   "outputs": [],
   "source": [
    "fs = FastShapelet(11, 203, 202, n_jobs=1, verbose=1)"
   ]
  }
 ],
 "metadata": {
  "kernelspec": {
   "display_name": "fast_shap-env",
   "language": "python",
   "name": "python3"
  },
  "language_info": {
   "codemirror_mode": {
    "name": "ipython",
    "version": 3
   },
   "file_extension": ".py",
   "mimetype": "text/x-python",
   "name": "python",
   "nbconvert_exporter": "python",
   "pygments_lexer": "ipython3",
   "version": "3.10.9"
  },
  "orig_nbformat": 4
 },
 "nbformat": 4,
 "nbformat_minor": 2
}
