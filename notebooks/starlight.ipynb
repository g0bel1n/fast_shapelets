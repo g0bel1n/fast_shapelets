{
 "cells": [
  {
   "cell_type": "code",
   "execution_count": 1,
   "metadata": {},
   "outputs": [],
   "source": [
    "import sys \n",
    "import os\n",
    "\n",
    "if 'fast_shapelets' not in [el.split('/')[-1] for el in sys.path]:\n",
    "    curr_path = os.getcwd()\n",
    "    sys.path.append('/'.join((curr_path.split('/')[:-1])))\n",
    "\n",
    "\n"
   ]
  },
  {
   "cell_type": "code",
   "execution_count": 33,
   "metadata": {},
   "outputs": [
    {
     "ename": "ModuleNotFoundError",
     "evalue": "No module named 'src'",
     "output_type": "error",
     "traceback": [
      "\u001b[1;31m---------------------------------------------------------------------------\u001b[0m",
      "\u001b[1;31mModuleNotFoundError\u001b[0m                       Traceback (most recent call last)",
      "\u001b[1;32mc:\\Users\\sophi\\OneDrive\\Documents\\3A_SDI\\MVA\\Time_series\\fast_shapelets\\notebooks\\starlight.ipynb Cell 2\u001b[0m in \u001b[0;36m2\n\u001b[0;32m      <a href='vscode-notebook-cell:/c%3A/Users/sophi/OneDrive/Documents/3A_SDI/MVA/Time_series/fast_shapelets/notebooks/starlight.ipynb#W1sZmlsZQ%3D%3D?line=0'>1</a>\u001b[0m sys\u001b[39m.\u001b[39mpath\u001b[39m.\u001b[39minsert(\u001b[39m0\u001b[39m,\u001b[39m'\u001b[39m\u001b[39m../src\u001b[39m\u001b[39m'\u001b[39m) \n\u001b[1;32m----> <a href='vscode-notebook-cell:/c%3A/Users/sophi/OneDrive/Documents/3A_SDI/MVA/Time_series/fast_shapelets/notebooks/starlight.ipynb#W1sZmlsZQ%3D%3D?line=1'>2</a>\u001b[0m \u001b[39mfrom\u001b[39;00m \u001b[39msrc\u001b[39;00m\u001b[39m.\u001b[39;00m\u001b[39m_dataloader\u001b[39;00m \u001b[39mimport\u001b[39;00m get_dataset\n\u001b[0;32m      <a href='vscode-notebook-cell:/c%3A/Users/sophi/OneDrive/Documents/3A_SDI/MVA/Time_series/fast_shapelets/notebooks/starlight.ipynb#W1sZmlsZQ%3D%3D?line=2'>3</a>\u001b[0m \u001b[39mfrom\u001b[39;00m \u001b[39msrc\u001b[39;00m\u001b[39m.\u001b[39;00m\u001b[39m_fast_shapelet\u001b[39;00m \u001b[39mimport\u001b[39;00m FastShapelets\n\u001b[0;32m      <a href='vscode-notebook-cell:/c%3A/Users/sophi/OneDrive/Documents/3A_SDI/MVA/Time_series/fast_shapelets/notebooks/starlight.ipynb#W1sZmlsZQ%3D%3D?line=3'>4</a>\u001b[0m \u001b[39mimport\u001b[39;00m \u001b[39mnumpy\u001b[39;00m \u001b[39mas\u001b[39;00m \u001b[39mnp\u001b[39;00m\n",
      "\u001b[1;31mModuleNotFoundError\u001b[0m: No module named 'src'"
     ]
    }
   ],
   "source": [
    "from src import get_dataset, FastShapelets\n",
    "import numpy as np\n",
    "import matplotlib.pyplot as plt"
   ]
  },
  {
   "cell_type": "code",
   "execution_count": 8,
   "metadata": {},
   "outputs": [
    {
     "name": "stdout",
     "output_type": "stream",
     "text": [
      "Dataset StarLightCurves loading from cache \n",
      "\n"
     ]
    }
   ],
   "source": [
    "X_train,y_train, X_test, y_test = get_dataset('StarLightCurves')\n",
    "y_train = y_train-1\n",
    "y_test = y_test-1\n",
    "\n",
    "X = X_train[:1000]\n",
    "y = y_train[:1000]"
   ]
  },
  {
   "cell_type": "code",
   "execution_count": 9,
   "metadata": {},
   "outputs": [],
   "source": [
    "fs = FastShapelets(min_shapelet_length=200, max_shapelet_length=201, cardinality=4, dimensionality=16, r=10)"
   ]
  },
  {
   "cell_type": "code",
   "execution_count": 10,
   "metadata": {},
   "outputs": [
    {
     "data": {
      "application/vnd.jupyter.widget-view+json": {
       "model_id": "8ac67df778ad4b5487e4eff487f45904",
       "version_major": 2,
       "version_minor": 0
      },
      "text/plain": [
       "Output()"
      ]
     },
     "metadata": {},
     "output_type": "display_data"
    }
   ],
   "source": [
    "fs.fit(X, y)"
   ]
  },
  {
   "cell_type": "code",
   "execution_count": 15,
   "metadata": {},
   "outputs": [
    {
     "name": "stderr",
     "output_type": "stream",
     "text": [
      "/Users/g0bel1n/fast_shapelets/src/_fast_shapelet.py:292: VisibleDeprecationWarning: Creating an ndarray from ragged nested sequences (which is a list-or-tuple of lists-or-tuples-or ndarrays with different lengths or shapes) is deprecated. If you meant to do this, you must specify 'dtype=object' when creating the ndarray.\n",
      "  shapelets = np.array([el.value for el in self.get_shapelets().values()])\n"
     ]
    }
   ],
   "source": [
    "test_shap = fs.transform(X_test[:1000])\n",
    "train_shap = fs.transform(X_train[:1000])"
   ]
  },
  {
   "cell_type": "code",
   "execution_count": 17,
   "metadata": {},
   "outputs": [
    {
     "data": {
      "text/plain": [
       "0.808"
      ]
     },
     "execution_count": 17,
     "metadata": {},
     "output_type": "execute_result"
    }
   ],
   "source": [
    "from sklearn.neighbors import KNeighborsClassifier\n",
    "from sklearn.metrics import balanced_accuracy_score\n",
    "\n",
    "\n",
    "knn = KNeighborsClassifier(n_neighbors=3)\n",
    "knn.fit(train_shap, y_train[:1000])\n",
    "knn.score(test_shap, y_test[:1000])\n",
    "#balanced_accuracy_score(y_test[:1000], knn.predict(test_shap))\n"
   ]
  },
  {
   "cell_type": "code",
   "execution_count": null,
   "metadata": {},
   "outputs": [],
   "source": []
  }
 ],
 "metadata": {
  "kernelspec": {
   "display_name": "fast_shap-env",
   "language": "python",
   "name": "python3"
  },
  "language_info": {
   "codemirror_mode": {
    "name": "ipython",
    "version": 3
   },
   "file_extension": ".py",
   "mimetype": "text/x-python",
   "name": "python",
   "nbconvert_exporter": "python",
   "pygments_lexer": "ipython3",
   "version": "3.10.9"
  },
  "orig_nbformat": 4
 },
 "nbformat": 4,
 "nbformat_minor": 2
}
